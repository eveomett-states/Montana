{
 "cells": [
  {
   "cell_type": "markdown",
   "id": "48a72edc-10d5-447e-bf59-a42b79b13098",
   "metadata": {},
   "source": [
    "# All the parameters that need to be changed"
   ]
  },
  {
   "cell_type": "code",
   "execution_count": 1,
   "id": "55545525-1a53-4366-88fa-4b4ecc94ecad",
   "metadata": {},
   "outputs": [],
   "source": [
    "# Montana\n",
    "state_ab = \"mt\""
   ]
  },
  {
   "cell_type": "markdown",
   "id": "c3e1bdeb-55c5-4c10-83b5-de352e6d559d",
   "metadata": {
    "tags": []
   },
   "source": [
    "## Data\n",
    "1. Download all the data in directory \"mt_data\"\n",
    "2. Eextract them all"
   ]
  },
  {
   "cell_type": "code",
   "execution_count": 2,
   "id": "1cbb32f0-472b-4441-abf2-6af58699cb5f",
   "metadata": {},
   "outputs": [],
   "source": [
    "data_folder = state_ab + \"_data/\"\n",
    "population1_data = \"./{}{}_pl2020_b/{}_pl2020_p1_b.shp\".format(data_folder, state_ab, state_ab)\n",
    "population2_data = \"./{}{}_pl2020_b/{}_pl2020_p2_b.shp\".format(data_folder, state_ab, state_ab)\n",
    "vap_data =  \"./{}{}_pl2020_b/{}_pl2020_p4_b.shp\".format(data_folder, state_ab, state_ab)\n",
    "vest20_data = \"./{}{}_vest_20/{}_vest_20.shp\".format(data_folder, state_ab, state_ab)\n",
    "vest18_data = \"./{}{}_vest_18/{}_vest_18.shp\".format(data_folder, state_ab, state_ab)\n",
    "vest16_data = \"./{}{}_vest_16/{}_vest_16.shp\".format(data_folder, state_ab, state_ab)\n",
    "cd_data = \"./{}{}_cong_2021/mt_cong_2021.shp\".format(data_folder, state_ab)\n",
    "send_data = \"./{}{}_sldu_adopted_2023/Final_Senate_Districts_2023 2023-02-20/Final_SenateDistricts_Errate_02_23_2023 2023-02-23.shp\".format(data_folder, state_ab)\n",
    "hdist_data = \"./{}{}_sldl_adopted_2023/Final_House_Districts_2023 2023-02-20/Final_HouseDistricts_Errata_02_23_2023 2023-02-23.shp\".format(data_folder, state_ab)\n",
    "county_data = \"./{}{}_pl2020_cnty/{}_pl2020_cnty.shp\".format(data_folder, state_ab, state_ab)"
   ]
  },
  {
   "cell_type": "markdown",
   "id": "2594a66a-efb1-443f-8b0a-b2c73257f1cc",
   "metadata": {},
   "source": [
    "## Parameters that needs to be manually checked\n",
    "\n",
    "### base vest data\n",
    "start_col = 5\\\n",
    "vest_base_data = vest20\\\n",
    "year = '20'\n",
    "\n",
    "### district data\n",
    "district column name of cong_df, send, hdist when calling add_dist()"
   ]
  },
  {
   "cell_type": "markdown",
   "id": "d9cfe42b-cfd8-4ad4-b255-31268cb35669",
   "metadata": {},
   "source": [
    "# Program starts"
   ]
  },
  {
   "cell_type": "code",
   "execution_count": 3,
   "id": "49a264d4-c255-4393-b5ae-74b6f7c645da",
   "metadata": {},
   "outputs": [],
   "source": [
    "import pandas as pd\n",
    "import geopandas as gpd\n",
    "import maup\n",
    "import time\n",
    "from maup import smart_repair\n",
    "from gerrychain import Graph\n",
    "import os\n",
    "\n",
    "maup.progress.enabled = True"
   ]
  },
  {
   "cell_type": "code",
   "execution_count": 4,
   "id": "f78d28b6-abb4-4444-aa7e-f0eb73dab3f2",
   "metadata": {},
   "outputs": [],
   "source": [
    "import warnings\n",
    "warnings.filterwarnings(\"ignore\")"
   ]
  },
  {
   "cell_type": "code",
   "execution_count": 5,
   "id": "378425b3-9819-41bd-8212-2e031b571cf2",
   "metadata": {},
   "outputs": [],
   "source": [
    "def do_smart_repair(df, min_rook_length = None, snap_precision = 10):\n",
    "    # change it to the UTM it needs for smart_repair\n",
    "    df = df.to_crs(df.estimate_utm_crs())\n",
    "    df = smart_repair(df, min_rook_length = min_rook_length, snap_precision = snap_precision)\n",
    "\n",
    "    if maup.doctor(df) == False:\n",
    "        raise Exception('maup.doctor failed')\n",
    "    \n",
    "    return df"
   ]
  },
  {
   "cell_type": "code",
   "execution_count": 6,
   "id": "df3945da-c3af-41a8-9511-a5aba33fef0b",
   "metadata": {},
   "outputs": [],
   "source": [
    "def add_district(dist_df, dist_name, election_df, col_name):\n",
    "    election_df = election_df.to_crs(election_df.estimate_utm_crs())\n",
    "    dist_df = dist_df.to_crs(dist_df.estimate_utm_crs())\n",
    "    # check if it needs to be smart_repair\n",
    "    if maup.doctor(dist_df) != True:\n",
    "        dist_df = do_smart_repair(dist_df)\n",
    "\n",
    "    # assigne the pricincts\n",
    "    precincts_to_district_assignment = maup.assign(election_df.geometry, dist_df.geometry)\n",
    "    election_df[dist_name] = precincts_to_district_assignment\n",
    "    for precinct_index in range(len(election_df)):\n",
    "        election_df.at[precinct_index, dist_name] = dist_df.at[election_df.at[precinct_index, dist_name], col_name]\n",
    "\n",
    "    return election_df"
   ]
  },
  {
   "cell_type": "code",
   "execution_count": 7,
   "id": "29c38a31-6707-4ab3-a9e4-38d69ce6838c",
   "metadata": {},
   "outputs": [],
   "source": [
    "def rename(original, year):\n",
    "    party = original[6]\n",
    "    if party == 'R' or party == 'D':\n",
    "        return original[3:6] + year + original[6]\n",
    "    else:\n",
    "        return original[3:6] + year + 'O'"
   ]
  },
  {
   "cell_type": "code",
   "execution_count": 8,
   "id": "9cbd02f8-308e-4fe9-804a-6bc8474b749b",
   "metadata": {},
   "outputs": [],
   "source": [
    "def check_population(population, df):\n",
    "    pop_check = pd.DataFrame({\n",
    "        'pop_col': pop_col,\n",
    "        'population_df': population[pop_col].sum(), \n",
    "        'vest_base': df[pop_col].sum(),\n",
    "        'equal': [x == y for x, y in zip(population[pop_col].sum(), df[pop_col].sum())]\n",
    "    })\n",
    "    if pop_check['equal'].mean() < 1:\n",
    "        print(pop_check)\n",
    "        raise Exception(\"population doesn't agree\")\n",
    "\n",
    "    else:\n",
    "        print(\"population agrees\")"
   ]
  },
  {
   "cell_type": "code",
   "execution_count": 9,
   "id": "c4508baf-84cd-4a31-97ad-059164232e8e",
   "metadata": {},
   "outputs": [],
   "source": [
    "def add_vest(vest, df, year, population, start_col, snap_precision = 10):\n",
    "    df = df.to_crs(df.estimate_utm_crs())\n",
    "    vest = vest.to_crs(vest.estimate_utm_crs())\n",
    "    population = population.to_crs(population.estimate_utm_crs())\n",
    "    df_crs = df.crs\n",
    "    vest_crs = vest.crs\n",
    "\n",
    "     # check if it needs to be smart_repair\n",
    "    if maup.doctor(vest) != True:\n",
    "        vest = do_smart_repair(vest, snap_precision = snap_precision)\n",
    "    \n",
    "    # rename the columns\n",
    "    original_col = vest.columns[start_col:-1]\n",
    "    new_col = [rename(i, year) for i in original_col]\n",
    "    rename_dict = dict(zip(original_col, new_col))\n",
    "    vest = vest.rename(columns=rename_dict)\n",
    "    vest = vest.groupby(level=0, axis=1).sum() # combine all the other party's vote into columns with sufix \"O\"\n",
    "    col_name = list(set(new_col))\n",
    "    col_name.sort()\n",
    "    \n",
    "    # make the blocks from precincts by weight\n",
    "    vest = gpd.GeoDataFrame(vest, crs=vest_crs)\n",
    "    election_in_block = population[[\"VAP\", 'geometry']] # population_df is in block scale\n",
    "    blocks_to_precincts_assignment = maup.assign(election_in_block.geometry, vest.geometry)\n",
    "    weights = election_in_block[\"VAP\"] / blocks_to_precincts_assignment.map(election_in_block[\"VAP\"].groupby(blocks_to_precincts_assignment).sum())\n",
    "    weights = weights.fillna(0)\n",
    "    prorated = maup.prorate(blocks_to_precincts_assignment, vest[col_name], weights)\n",
    "    election_in_block[col_name] = prorated\n",
    "    \n",
    "    # assign blocks to precincts\n",
    "    election_in_block = gpd.GeoDataFrame(election_in_block, crs=vest_crs)\n",
    "    df = gpd.GeoDataFrame(df, crs=df_crs)\n",
    "    block_to_pricinct_assginment = maup.assign(election_in_block.geometry, df.geometry)\n",
    "    df[col_name] = election_in_block[col_name].groupby(block_to_pricinct_assginment).sum()\n",
    "    df = df.groupby(level=0, axis=1).sum()\n",
    "    df = gpd.GeoDataFrame(df, crs = df_crs)\n",
    "    # check if population agrees\n",
    "    check_population(population, df)\n",
    "    \n",
    "    return df"
   ]
  },
  {
   "cell_type": "code",
   "execution_count": 10,
   "id": "b5e6da1c-2532-46ae-b534-6d7087ad2920",
   "metadata": {},
   "outputs": [],
   "source": [
    "def add_vest_base(vest, start_col, year, county = None, min_rook_length = None, snap_precision = 10):\n",
    "    vest = vest.to_crs(vest.estimate_utm_crs())\n",
    "    vest_crs = vest.crs\n",
    "    original_col = vest.columns[start_col:-1]\n",
    "    new_col = [rename(i, year) for i in original_col]\n",
    "    rename_dict = dict(zip(original_col, new_col))\n",
    "    vest = vest.rename(columns=rename_dict)\n",
    "    vest = vest.groupby(level=0, axis=1).sum()\n",
    "    vest = gpd.GeoDataFrame(vest, crs=vest_crs)\n",
    "\n",
    "    if county is not None:\n",
    "        county = county.to_crs(county.estimate_utm_crs())\n",
    "        vest = smart_repair(vest, nest_within_regions = county, min_rook_length = min_rook_length, snap_precision = snap_precision) # nest precincts within counties\n",
    "\n",
    "    else:\n",
    "        vest = smart_repair(vest, min_rook_length = min_rook_length, snap_precision = snap_precision) \n",
    "    \n",
    "    return vest"
   ]
  },
  {
   "cell_type": "code",
   "execution_count": 11,
   "id": "a25b9127-a819-40a6-a58b-6d08632ad3ce",
   "metadata": {},
   "outputs": [],
   "source": [
    "def check_small_boundary_lengths(vest_base):\n",
    "    import copy\n",
    "    vest_base = vest_base.to_crs(vest_base.estimate_utm_crs())\n",
    "\n",
    "    boundaries = copy.deepcopy(vest_base)\n",
    "    boundaries[\"geometry\"] = boundaries.geometry.boundary  # get boundaries\n",
    "    neighbors = gpd.sjoin(boundaries, vest_base, predicate=\"intersects\") # find boundaries that intersect\n",
    "    neighbors = neighbors[neighbors.index != neighbors.index_right] # remove boundaries of a region with itself\n",
    "\n",
    "    # compute shared border length using intersection\n",
    "    borders = list(neighbors.apply(\n",
    "        lambda row: row.geometry.intersection(vest_base.loc[row.index_right, \"geometry\"]).length, axis=1\n",
    "    ))\n",
    "\n",
    "    borders.sort()\n",
    "    \n",
    "    return borders"
   ]
  },
  {
   "cell_type": "markdown",
   "id": "ab6ce8f5-f237-4d6c-8425-cd8a0b080f65",
   "metadata": {},
   "source": [
    "## Read the census data"
   ]
  },
  {
   "cell_type": "code",
   "execution_count": 12,
   "id": "185d2b84-d37f-4f24-86c1-1bcd0b4347e2",
   "metadata": {},
   "outputs": [],
   "source": [
    "population1_df = gpd.read_file(population1_data)\n",
    "population2_df = gpd.read_file(population2_data)\n",
    "vap_df = gpd.read_file(vap_data)\n",
    "county_df = gpd.read_file(county_data)"
   ]
  },
  {
   "cell_type": "code",
   "execution_count": 13,
   "id": "57b3b9bb-9721-469d-8eee-0dd5eb0e6015",
   "metadata": {},
   "outputs": [],
   "source": [
    "population2_df = population2_df.drop(columns=['SUMLEV', 'LOGRECNO', 'GEOID', 'COUNTY', 'geometry'])\n",
    "vap_df = vap_df.drop(columns=['SUMLEV', 'LOGRECNO', 'GEOID', 'COUNTY', 'geometry'])"
   ]
  },
  {
   "cell_type": "code",
   "execution_count": 14,
   "id": "daa935f7-bc02-4856-adb0-9cc9cf31ffca",
   "metadata": {},
   "outputs": [],
   "source": [
    "population_df = pd.merge(population1_df, population2_df, on='GEOID20')\n",
    "population_df = pd.merge(population_df, vap_df, on='GEOID20')\n",
    "population_df = population_df.to_crs(population_df.estimate_utm_crs())"
   ]
  },
  {
   "cell_type": "code",
   "execution_count": 15,
   "id": "8a9de437",
   "metadata": {},
   "outputs": [
    {
     "name": "stderr",
     "output_type": "stream",
     "text": [
      "100%|██████████████████████████████████████████████████████████████| 88417/88417 [00:57<00:00, 1528.16it/s]\n"
     ]
    },
    {
     "data": {
      "text/plain": [
       "True"
      ]
     },
     "execution_count": 15,
     "metadata": {},
     "output_type": "execute_result"
    }
   ],
   "source": [
    "maup.doctor(population_df)"
   ]
  },
  {
   "cell_type": "code",
   "execution_count": 16,
   "id": "ea630d2d",
   "metadata": {},
   "outputs": [],
   "source": [
    "rename_dict = {'P0020001': 'TOTPOP', 'P0020002': 'HISP', 'P0020005': 'NH_WHITE', 'P0020006': 'NH_BLACK', 'P0020007': 'NH_AMIN',\n",
    "               'P0020008': 'NH_ASIAN', 'P0020009': 'NH_NHPI', 'P0020010': 'NH_OTHER', 'P0020011': 'NH_2MORE',\n",
    "               'P0040001': 'VAP', 'P0040002': 'HVAP', 'P0040005': 'WVAP', 'P0040006': 'BVAP', 'P0040007': 'AMINVAP',\n",
    "               'P0040008': 'ASIANVAP', 'P0040009': 'NHPIVAP', 'P0040010': 'OTHERVAP', 'P0040011': '2MOREVAP'}"
   ]
  },
  {
   "cell_type": "code",
   "execution_count": 17,
   "id": "ad8c0a82",
   "metadata": {},
   "outputs": [],
   "source": [
    "population_df.rename(columns=rename_dict, inplace = True)"
   ]
  },
  {
   "cell_type": "code",
   "execution_count": 18,
   "id": "9550a841-5692-4d5f-a7f1-131d53eb9f12",
   "metadata": {},
   "outputs": [],
   "source": [
    "population_df['H_WHITE'] = population_df.apply(lambda t: t['P0010003'] - t['NH_WHITE'], 1)\n",
    "population_df['H_BLACK'] = population_df.apply(lambda t: t['P0010004'] - t['NH_BLACK'], 1)\n",
    "population_df['H_AMIN'] = population_df.apply(lambda t: t['P0010005'] - t['NH_AMIN'], 1)\n",
    "population_df['H_ASIAN'] = population_df.apply(lambda t: t['P0010006'] - t['NH_ASIAN'], 1)\n",
    "population_df['H_NHPI'] = population_df.apply(lambda t: t['P0010007'] - t['NH_NHPI'], 1)\n",
    "population_df['H_OTHER'] = population_df.apply(lambda t: t['P0010008'] - t['NH_OTHER'], 1)\n",
    "population_df['H_2MORE'] = population_df.apply(lambda t: t['P0010009'] - t['NH_2MORE'], 1)"
   ]
  },
  {
   "cell_type": "markdown",
   "id": "5389c7fb",
   "metadata": {},
   "source": [
    "Make sure that the County shapefile is clean:"
   ]
  },
  {
   "cell_type": "code",
   "execution_count": 19,
   "id": "fe06d566",
   "metadata": {},
   "outputs": [
    {
     "name": "stderr",
     "output_type": "stream",
     "text": [
      "100%|█████████████████████████████████████████████████████████████████████| 56/56 [00:00<00:00, 180.01it/s]\n"
     ]
    },
    {
     "data": {
      "text/plain": [
       "True"
      ]
     },
     "execution_count": 19,
     "metadata": {},
     "output_type": "execute_result"
    }
   ],
   "source": [
    "maup.doctor(county_df)"
   ]
  },
  {
   "cell_type": "markdown",
   "id": "e1e89689-06e1-4937-9bee-b0442bfc33d5",
   "metadata": {},
   "source": [
    "# Read the base vest data\n",
    "Now using it as a \"base precinct\", but it could be vest 18 or vest 16 if vest 20 is not working"
   ]
  },
  {
   "cell_type": "markdown",
   "id": "bcfb3af1-db89-4463-98d8-3a0192067bb4",
   "metadata": {},
   "source": [
    "### Check if vest 20 can be used as base"
   ]
  },
  {
   "cell_type": "code",
   "execution_count": 20,
   "id": "397e9936-bfde-4b09-9dcb-207733dfb2dd",
   "metadata": {},
   "outputs": [],
   "source": [
    "vest20 = gpd.read_file(vest20_data)"
   ]
  },
  {
   "cell_type": "code",
   "execution_count": 21,
   "id": "2d744be1-7568-4b94-a383-17d219ac128b",
   "metadata": {},
   "outputs": [
    {
     "data": {
      "text/plain": [
       "Index(['STATEFP10', 'COUNTYFP10', 'COUNTY', 'NAME', 'SOSPRECINC', 'G20PRERTRU',\n",
       "       'G20PREDBID', 'G20PRELJOR', 'G20USSRDAI', 'G20USSDBUL', 'G20HALRROS',\n",
       "       'G20HALDWIL', 'G20GOVRGIA', 'G20GOVDCOO', 'G20GOVLBIS', 'G20ATGRKNU',\n",
       "       'G20ATGDGRA', 'G20SOSRJAC', 'G20SOSDBEN', 'G20AUDRDOW', 'G20AUDDMOR',\n",
       "       'G20AUDLROO', 'G20SPIRARN', 'G20SPIDROM', 'G20SPILLEA', 'geometry'],\n",
       "      dtype='object')"
      ]
     },
     "execution_count": 21,
     "metadata": {},
     "output_type": "execute_result"
    }
   ],
   "source": [
    "vest20.columns"
   ]
  },
  {
   "cell_type": "markdown",
   "id": "65620cab-599f-4232-818e-e85846d02694",
   "metadata": {},
   "source": [
    "## Parameters that need to be checked"
   ]
  },
  {
   "cell_type": "code",
   "execution_count": 22,
   "id": "4200a0f8-29dd-42f9-96e4-ff27188ce32a",
   "metadata": {},
   "outputs": [],
   "source": [
    "start_col = 5\n",
    "vest_base_data = vest20\n",
    "year = '20'"
   ]
  },
  {
   "cell_type": "code",
   "execution_count": 23,
   "id": "728420ec-9df2-4771-ae4c-1832fe3fb12f",
   "metadata": {},
   "outputs": [
    {
     "name": "stderr",
     "output_type": "stream",
     "text": [
      "100%|█████████████████████████████████████████████████████████████████████| 56/56 [00:00<00:00, 183.33it/s]\n"
     ]
    },
    {
     "name": "stdout",
     "output_type": "stream",
     "text": [
      "Snapping all geometries to a grid with precision 10^( -5 ) to avoid GEOS errors.\n"
     ]
    },
    {
     "name": "stderr",
     "output_type": "stream",
     "text": [
      "100%|█████████████████████████████████████████████████████████████████████| 56/56 [00:00<00:00, 794.50it/s]\n",
      "100%|██████████████████████████████████████████████████████████████████████| 56/56 [00:00<00:00, 58.96it/s]\n"
     ]
    },
    {
     "name": "stdout",
     "output_type": "stream",
     "text": [
      "Identifying overlaps...\n"
     ]
    },
    {
     "name": "stderr",
     "output_type": "stream",
     "text": [
      "100%|███████████████████████████████████████████████████████████████| 50802/50802 [00:52<00:00, 970.73it/s]\n"
     ]
    },
    {
     "name": "stdout",
     "output_type": "stream",
     "text": [
      "Resolving overlaps and filling gaps...\n"
     ]
    },
    {
     "name": "stderr",
     "output_type": "stream",
     "text": [
      "100%|█████████████████████████████████████████████████████████████████████| 56/56 [00:00<00:00, 880.60it/s]\n",
      "100%|██████████████████████████████████████████████████████████████████████| 56/56 [00:01<00:00, 53.56it/s]\n",
      "Gaps to simplify in region 0: 100%|████████████████████████████████████| 1152/1152 [00:48<00:00, 23.56it/s]\n",
      "Gaps to fill in region 0: 100%|██████████████████████████████████████████████| 2/2 [00:00<00:00,  2.35it/s]\n",
      "Gaps to simplify in region 1: 100%|██████████████████████████████████████| 220/220 [00:04<00:00, 50.59it/s]\n",
      "Gaps to fill in region 1: 100%|████████████████████████████████████████████| 11/11 [00:00<00:00, 23.93it/s]\n",
      "Gaps to simplify in region 2: 100%|████████████████████████████████████| 2464/2464 [00:58<00:00, 41.91it/s]\n",
      "Gaps to fill in region 2: 100%|████████████████████████████████████████████| 12/12 [00:00<00:00, 18.72it/s]\n",
      "Gaps to simplify in region 3: 100%|████████████████████████████████████| 1648/1648 [01:01<00:00, 26.71it/s]\n",
      "Gaps to fill in region 3: 100%|████████████████████████████████████████████| 11/11 [00:01<00:00, 10.84it/s]\n",
      "Gaps to simplify in region 4: 100%|████████████████████████████████████| 1371/1371 [00:32<00:00, 41.96it/s]\n",
      "Gaps to fill in region 4: 100%|██████████████████████████████████████████████| 3/3 [00:00<00:00, 23.61it/s]\n",
      "Gaps to simplify in region 5: 100%|██████████████████████████████████████| 101/101 [00:01<00:00, 51.46it/s]\n",
      "Gaps to fill in region 5: 100%|██████████████████████████████████████████████| 9/9 [00:00<00:00, 32.04it/s]\n",
      "Gaps to simplify in region 6: 100%|██████████████████████████████████████| 171/171 [00:02<00:00, 82.01it/s]\n",
      "Gaps to fill in region 6: 100%|██████████████████████████████████████████████| 8/8 [00:00<00:00, 49.78it/s]\n",
      "Gaps to simplify in region 7: 100%|██████████████████████████████████████| 110/110 [00:01<00:00, 73.14it/s]\n",
      "Gaps to fill: 0it [00:00, ?it/s]\n",
      "Gaps to simplify in region 8: 100%|████████████████████████████████████████| 91/91 [00:01<00:00, 64.52it/s]\n",
      "Gaps to fill in region 8: 100%|██████████████████████████████████████████████| 1/1 [00:00<00:00, 22.32it/s]\n",
      "Gaps to simplify in region 9: 100%|██████████████████████████████████████| 278/278 [00:04<00:00, 58.32it/s]\n",
      "Gaps to fill in region 9: 100%|████████████████████████████████████████████| 20/20 [00:00<00:00, 52.60it/s]\n",
      "Gaps to simplify in region 10: 100%|█████████████████████████████████████| 124/124 [00:02<00:00, 58.82it/s]\n",
      "Gaps to fill in region 10: 100%|█████████████████████████████████████████████| 2/2 [00:00<00:00, 31.78it/s]\n",
      "Gaps to simplify in region 11: 100%|█████████████████████████████████████| 359/359 [00:12<00:00, 28.56it/s]\n",
      "Gaps to fill in region 11: 100%|█████████████████████████████████████████████| 4/4 [00:00<00:00, 37.37it/s]\n",
      "Gaps to simplify in region 12: 100%|█████████████████████████████████████| 718/718 [00:15<00:00, 47.50it/s]\n",
      "Gaps to fill in region 12: 100%|█████████████████████████████████████████████| 3/3 [00:00<00:00, 31.42it/s]\n",
      "Gaps to simplify in region 13: 100%|█████████████████████████████████████| 827/827 [00:10<00:00, 76.37it/s]\n",
      "Gaps to fill in region 13: 100%|█████████████████████████████████████████████| 5/5 [00:00<00:00, 33.89it/s]\n",
      "Gaps to simplify in region 14: 100%|█████████████████████████████████████| 152/152 [00:02<00:00, 67.37it/s]\n",
      "Gaps to fill in region 14: 100%|█████████████████████████████████████████████| 6/6 [00:00<00:00, 29.78it/s]\n",
      "Gaps to simplify in region 15: 100%|█████████████████████████████████████| 327/327 [00:03<00:00, 90.46it/s]\n",
      "Gaps to fill in region 15: 100%|███████████████████████████████████████████| 12/12 [00:00<00:00, 53.42it/s]\n",
      "Gaps to simplify in region 16: 100%|█████████████████████████████████████| 142/142 [00:01<00:00, 73.13it/s]\n",
      "Gaps to fill: 0it [00:00, ?it/s]\n",
      "Gaps to simplify in region 17: 100%|█████████████████████████████████████| 350/350 [00:06<00:00, 56.08it/s]\n",
      "Gaps to fill in region 17: 100%|█████████████████████████████████████████████| 4/4 [00:00<00:00, 30.55it/s]\n",
      "Gaps to simplify in region 18: 100%|████████████████████████████████████| 182/182 [00:01<00:00, 102.25it/s]\n",
      "Gaps to fill in region 18: 100%|█████████████████████████████████████████████| 6/6 [00:00<00:00, 47.08it/s]\n",
      "Gaps to simplify in region 19: 100%|█████████████████████████████████████| 694/694 [00:15<00:00, 44.66it/s]\n",
      "Gaps to fill in region 19: 100%|█████████████████████████████████████████████| 9/9 [00:00<00:00, 34.45it/s]\n",
      "Gaps to simplify in region 20: 100%|████████████████████████████████████| 122/122 [00:01<00:00, 105.62it/s]\n",
      "Gaps to fill in region 20: 100%|█████████████████████████████████████████████| 2/2 [00:00<00:00, 38.59it/s]\n",
      "Gaps to simplify in region 21: 100%|███████████████████████████████████████| 58/58 [00:05<00:00,  9.85it/s]\n",
      "Gaps to fill in region 21: 100%|███████████████████████████████████████████| 10/10 [00:00<00:00, 10.33it/s]\n",
      "Gaps to simplify in region 22: 100%|█████████████████████████████████████| 777/777 [00:16<00:00, 46.98it/s]\n",
      "Gaps to fill in region 22: 100%|█████████████████████████████████████████████| 8/8 [00:00<00:00, 32.42it/s]\n",
      "Gaps to simplify in region 23: 100%|█████████████████████████████████████| 419/419 [00:10<00:00, 38.25it/s]\n",
      "Gaps to fill in region 23: 100%|███████████████████████████████████████████| 47/47 [00:00<00:00, 52.81it/s]\n",
      "Gaps to simplify in region 24: 100%|█████████████████████████████████████| 158/158 [00:02<00:00, 58.78it/s]\n",
      "Gaps to fill in region 24: 100%|███████████████████████████████████████████| 29/29 [00:00<00:00, 41.63it/s]\n",
      "Gaps to simplify in region 25: 100%|█████████████████████████████████████| 101/101 [00:01<00:00, 50.54it/s]\n",
      "Gaps to fill: 0it [00:00, ?it/s]\n",
      "Gaps to simplify in region 26: 100%|███████████████████████████████████| 1529/1529 [00:37<00:00, 40.33it/s]\n",
      "Gaps to fill in region 26: 100%|█████████████████████████████████████████████| 8/8 [00:00<00:00, 30.45it/s]\n",
      "Gaps to simplify in region 27: 100%|█████████████████████████████████████| 274/274 [00:04<00:00, 63.32it/s]\n",
      "Gaps to fill in region 27: 100%|█████████████████████████████████████████████| 6/6 [00:00<00:00, 45.04it/s]\n",
      "Gaps to simplify in region 28: 100%|███████████████████████████████████| 1403/1403 [00:27<00:00, 50.52it/s]\n",
      "Gaps to fill in region 28: 100%|███████████████████████████████████████████| 13/13 [00:01<00:00, 11.22it/s]\n",
      "Gaps to simplify in region 29: 100%|███████████████████████████████████| 1219/1219 [00:50<00:00, 24.32it/s]\n",
      "Gaps to fill in region 29: 100%|█████████████████████████████████████████████| 3/3 [00:00<00:00, 20.85it/s]\n",
      "Gaps to simplify in region 30: 100%|█████████████████████████████████████| 386/386 [00:05<00:00, 69.46it/s]\n",
      "Gaps to fill in region 30: 100%|█████████████████████████████████████████████| 2/2 [00:00<00:00, 23.70it/s]\n",
      "Gaps to simplify in region 31: 100%|███████████████████████████████████| 2745/2745 [01:52<00:00, 24.41it/s]\n",
      "Gaps to fill in region 31: 100%|███████████████████████████████████████████| 10/10 [00:00<00:00, 20.05it/s]\n",
      "Gaps to simplify in region 32: 100%|█████████████████████████████████████| 540/540 [00:22<00:00, 24.35it/s]\n",
      "Gaps to fill in region 32: 100%|█████████████████████████████████████████████| 1/1 [00:00<00:00,  4.92it/s]\n",
      "Gaps to simplify in region 33: 100%|███████████████████████████████████| 1265/1265 [01:04<00:00, 19.55it/s]\n",
      "Gaps to fill: 0it [00:00, ?it/s]\n",
      "Gaps to simplify in region 34: 100%|█████████████████████████████████████| 583/583 [00:20<00:00, 29.11it/s]\n",
      "Gaps to fill: 0it [00:00, ?it/s]\n",
      "Gaps to simplify in region 35: 100%|███████████████████████████████████| 1070/1070 [00:18<00:00, 58.68it/s]\n",
      "Gaps to fill in region 35: 100%|█████████████████████████████████████████████| 8/8 [00:00<00:00, 35.88it/s]\n",
      "Gaps to simplify in region 36: 100%|████████████████████████████████████| 108/108 [00:01<00:00, 102.57it/s]\n",
      "Gaps to fill in region 36: 100%|█████████████████████████████████████████████| 1/1 [00:00<00:00, 30.71it/s]\n",
      "Gaps to simplify in region 37: 100%|█████████████████████████████████████| 145/145 [00:02<00:00, 51.29it/s]\n",
      "Gaps to fill: 0it [00:00, ?it/s]\n",
      "Gaps to simplify in region 38: 100%|█████████████████████████████████████| 119/119 [00:03<00:00, 30.13it/s]\n",
      "Gaps to fill in region 38: 100%|█████████████████████████████████████████████| 5/5 [00:00<00:00, 26.43it/s]\n",
      "Gaps to simplify in region 39: 100%|█████████████████████████████████████| 596/596 [00:11<00:00, 51.62it/s]\n",
      "Gaps to fill in region 39: 100%|█████████████████████████████████████████████| 2/2 [00:00<00:00, 17.79it/s]\n",
      "Gaps to simplify in region 40: 100%|███████████████████████████████████| 3702/3702 [03:13<00:00, 19.10it/s]\n",
      "Gaps to fill in region 40: 100%|█████████████████████████████████████████████| 4/4 [00:00<00:00, 16.13it/s]\n",
      "Gaps to simplify in region 41: 100%|█████████████████████████████████████| 586/586 [00:13<00:00, 43.58it/s]\n",
      "Gaps to fill in region 41: 100%|█████████████████████████████████████████████| 5/5 [00:00<00:00, 27.89it/s]\n",
      "Gaps to simplify in region 42: 100%|███████████████████████████████████| 1369/1369 [00:46<00:00, 29.61it/s]\n",
      "Gaps to fill in region 42: 100%|█████████████████████████████████████████████| 3/3 [00:00<00:00, 11.52it/s]\n",
      "Gaps to simplify in region 43: 100%|███████████████████████████████████| 1664/1664 [01:38<00:00, 16.90it/s]\n",
      "Gaps to fill: 0it [00:00, ?it/s]\n",
      "Gaps to simplify in region 44: 100%|█████████████████████████████████████| 640/640 [00:18<00:00, 33.90it/s]\n",
      "Gaps to fill in region 44: 100%|█████████████████████████████████████████████| 6/6 [00:00<00:00, 11.18it/s]\n",
      "Gaps to simplify in region 45: 100%|█████████████████████████████████████| 118/118 [00:01<00:00, 62.60it/s]\n",
      "Gaps to fill in region 45: 100%|█████████████████████████████████████████████| 4/4 [00:00<00:00, 37.56it/s]\n",
      "Gaps to simplify in region 46: 100%|███████████████████████████████████| 2006/2006 [01:55<00:00, 17.34it/s]\n",
      "Gaps to fill in region 46: 100%|███████████████████████████████████████████| 11/11 [00:00<00:00, 12.30it/s]\n",
      "Gaps to simplify in region 47: 100%|█████████████████████████████████████| 139/139 [00:08<00:00, 16.72it/s]\n",
      "Gaps to fill in region 47: 100%|███████████████████████████████████████████| 20/20 [00:00<00:00, 31.75it/s]\n",
      "Gaps to simplify in region 48: 100%|███████████████████████████████████| 1613/1613 [00:59<00:00, 27.17it/s]\n",
      "Gaps to fill in region 48: 100%|█████████████████████████████████████████████| 3/3 [00:00<00:00,  8.08it/s]\n",
      "Gaps to simplify in region 49: 100%|█████████████████████████████████████| 138/138 [00:01<00:00, 74.58it/s]\n",
      "Gaps to fill in region 49: 100%|█████████████████████████████████████████████| 2/2 [00:00<00:00, 31.61it/s]\n",
      "Gaps to simplify in region 50: 100%|█████████████████████████████████████| 604/604 [00:09<00:00, 61.17it/s]\n",
      "Gaps to fill in region 50: 100%|███████████████████████████████████████████| 13/13 [00:00<00:00, 17.89it/s]\n",
      "Gaps to simplify in region 51: 100%|█████████████████████████████████████| 112/112 [00:01<00:00, 70.71it/s]\n",
      "Gaps to fill in region 51: 100%|█████████████████████████████████████████████| 8/8 [00:00<00:00, 31.70it/s]\n",
      "Gaps to simplify in region 52: 100%|███████████████████████████████████| 1353/1353 [00:23<00:00, 58.63it/s]\n",
      "Gaps to fill in region 52: 100%|█████████████████████████████████████████████| 5/5 [00:00<00:00, 21.84it/s]\n",
      "Gaps to simplify in region 53: 100%|█████████████████████████████████████| 920/920 [00:22<00:00, 40.73it/s]\n",
      "Gaps to fill in region 53: 100%|█████████████████████████████████████████████| 5/5 [00:00<00:00, 27.77it/s]\n",
      "Gaps to simplify in region 54: 100%|███████████████████████████████████| 1742/1742 [01:12<00:00, 24.16it/s]\n",
      "Gaps to fill in region 54: 100%|█████████████████████████████████████████████| 8/8 [00:00<00:00, 14.41it/s]\n",
      "Gaps to simplify in region 55: 100%|███████████████████████████████████| 1433/1433 [00:54<00:00, 26.46it/s]\n",
      "Gaps to fill in region 55: 100%|█████████████████████████████████████████████| 4/4 [00:00<00:00, 36.09it/s]\n"
     ]
    }
   ],
   "source": [
    "# vest_base = add_vest_base(vest20, county_df, start_col, year)\n",
    "vest_base = add_vest_base(vest20, start_col, year, county = county_df)"
   ]
  },
  {
   "cell_type": "markdown",
   "id": "f9752f24-ec63-4e9d-9981-6c58a8cee26b",
   "metadata": {},
   "source": [
    "Let's look at the border lengths.  If there's a clear reasonable cutoff for switching rook adjacencies to queen, we use that.  Otherwise, we can use 30.5 m (which is approximately 100 ft).  This is not a magic number, just a reasonable one."
   ]
  },
  {
   "cell_type": "code",
   "execution_count": 24,
   "id": "3d6f7660-70b5-488d-bdde-facef3a4b586",
   "metadata": {},
   "outputs": [
    {
     "name": "stdout",
     "output_type": "stream",
     "text": [
      "[0.0, 0.0, 0.0, 0.0, 0.0, 0.0, 0.0, 0.0, 0.0, 0.0, 0.0, 0.0, 0.0, 0.0, 0.0, 0.0, 0.0, 0.0, 0.0, 0.0, 0.0, 0.0, 0.0, 0.0, 0.0, 0.0, 0.0, 0.0, 0.0, 0.0, 0.0, 0.0, 0.0, 0.0, 0.0, 0.0, 0.0, 0.0, 0.0, 0.0, 0.0, 0.0, 0.0, 0.0, 0.0, 0.0, 0.0, 0.0, 0.0, 0.0, 0.0, 0.0, 0.0, 0.0, 0.0, 0.0, 0.0, 0.0, 0.0, 0.0, 0.0, 0.0, 0.0, 0.0, 0.0, 0.0, 0.0, 0.0, 0.0, 0.0, 0.0, 0.0, 0.0, 0.0, 0.0, 0.0, 0.0, 0.0, 0.0, 0.0, 0.0, 0.0, 0.0, 0.0, 0.0, 0.0, 0.0, 0.0, 0.0, 0.0, 0.0, 0.0, 0.0, 0.0, 0.0, 0.0, 0.0, 0.0, 0.0, 0.0, 0.0, 0.0, 0.0, 0.0, 0.0, 0.0, 2.612701395071634, 2.612701395071634, 3.145981353690254, 3.145981353690254, 3.2945745224520953, 3.2945745224520953, 3.6332067285916136, 3.6332067285916136, 7.38165281783661, 7.38165281783661, 8.13334885919858, 8.13334885919858, 10.407707396746142, 10.407707396746142, 10.66851134986606, 10.66851134986606, 16.225505042085796, 16.225505042085796, 17.586991162502972, 17.586991162502972, 17.846058301398788, 17.846058301398788, 19.002007526137717, 19.002007526137717, 26.043621843005006, 26.043621843005006, 26.156024581943925, 26.156024581943925, 26.336964216626058, 26.33696421662606, 27.233507085226694, 27.233507085226694, 32.79700345585412, 32.79700345585412, 34.864178266910955, 34.864178266910955, 40.557374619049085, 40.557374619049085, 61.09227322488482, 61.09227322488482, 61.19620093520107, 61.19620093520107, 66.3991876969397, 66.3991876969397, 69.37779105594916, 69.37779105594916, 73.03692139278232, 73.03692139278232, 80.60111594280235, 80.60111594280235, 81.05409287223203, 81.05409287223205, 84.63512122807322, 84.63512122807322, 88.87046114141047, 88.87046114141047, 90.73736026522577, 90.73736026522577, 92.66069440281777, 92.66069440281777, 97.02211431995698, 97.02211431995698, 107.77643908607516, 107.77643908607516, 108.39982041338527, 108.39982041338527, 113.59423848999879, 113.59423848999879, 116.41853156767513, 116.41853156767513, 123.59172998667067, 123.59172998667067, 126.0201955575752, 126.02019555757522, 128.66875004208538, 128.66875004208538, 128.94364679336076, 128.94364679336076, 133.98665644446945, 133.98665644446945, 150.74842822742417, 150.74842822742417, 158.12838370542985, 158.12838370542985, 158.71466080007585, 158.71466080007585, 161.17821929008053, 161.17821929008053, 163.4214636278899, 163.4214636278899, 172.795056904546, 172.79505690454602, 172.9401628236451, 172.9401628236451, 174.11887128326032, 174.11887128326032, 174.32119586032022, 174.32119586032022, 186.65719123806213, 186.65719123806213, 192.08624345301627, 192.0862434530163, 193.8668012555705, 193.8668012555705, 194.65481088501718, 194.65481088501718, 197.87597299800427, 197.87597299800427, 204.86758814469783, 204.86758814469783, 215.1700623884628, 215.1700623884628, 217.01077551644593, 217.01077551644593, 223.73299794649535, 223.73299794649537, 229.60873944328506, 229.60873944328506, 236.46709195357144, 236.46709195357144, 246.0732877285391, 246.07328772853916, 255.84044744197445, 255.84044744197448, 258.9709027581583, 258.9709027581583, 264.9919946576189, 264.9919946576189, 265.0457437319952, 265.04574373199523, 275.8212408214788, 275.8212408214788, 281.4220939592069, 281.42209395920696, 293.09569806197237, 293.09569806197237, 293.46255822664676, 293.46255822664676, 294.5887172210781, 294.5887172210781, 296.3784992849319, 296.3784992849319, 301.4498631587884, 301.4498631587884, 305.04223608140614, 305.04223608140614, 308.41934467294044, 308.41934467294044, 324.45225834966243, 324.4522583496625, 324.687951878081, 324.687951878081, 333.58644475667757, 333.58644475667757, 342.40404963675644, 342.40404963675644, 347.74699953934555, 347.74699953934555, 348.48360644787834, 348.4836064478784, 348.64545588468695, 348.64545588468695, 350.67436596875797, 350.67436596875797, 351.365787813629, 351.365787813629, 357.39416569037087, 357.39416569037087, 365.9946205137851, 365.99462051378515, 368.1180459768524, 368.11804597685244, 374.865078900687, 374.8650789006871, 375.5750535675691, 375.5750535675691, 377.052529004379, 377.052529004379, 392.07833229686895, 392.07833229686895, 393.82105104321016, 393.8210510432102, 398.5116405306258, 398.5116405306258, 399.0206470935337, 399.02064709353374, 400.85687786780966, 400.85687786780966, 401.72054418611816, 401.7205441861182, 410.2957722953005, 410.2957722953005, 410.9856314523398, 410.9856314523399, 411.06901951019887, 411.06901951019904, 420.26383737104175, 420.2638373710418, 423.5493928748748, 423.5493928748748, 427.2141087711084, 427.2141087711084, 429.145135823977, 429.145135823977, 434.6383665758428, 434.6383665758428, 438.30526603976364, 438.30526603976364, 442.3909035893854, 442.3909035893854, 450.517995264938, 450.517995264938, 452.86319590721274, 452.86319590721274, 453.88112262771585, 453.88112262771585, 454.99655650194325, 454.99655650194325, 456.27162428818525, 456.27162428818525, 461.88333311365017, 461.88333311365017, 465.67463397135253, 465.6746339713526, 467.08190091038483, 467.0819009103849, 491.6381356240747, 491.6381356240747, 492.0661100436599, 492.0661100436599, 494.85225132033855, 494.85225132033855, 499.9848949003291, 499.9848949003291, 504.6589028939374, 504.65890289393747, 507.55286963320737, 507.55286963320737, 515.3476193017893, 515.3476193017893, 515.9044222089834, 515.9044222089835, 516.5053460933897, 516.5053460933898, 532.0881879987761, 532.0881879987761, 537.3884932552032, 537.3884932552032, 549.2981806408782, 549.2981806408782, 554.1652527213608, 554.165252721361, 557.2106151483686, 557.2106151483686, 567.0105009528139, 567.0105009528139, 570.2679903603387, 570.2679903603387, 571.1473005637024, 571.1473005637025, 576.4247523326355, 576.4247523326355, 576.708995858185, 576.708995858185, 584.4572725378179, 584.4572725378179, 589.0398006912656, 589.0398006912657, 594.369796555326, 594.369796555326, 596.6325963654658, 596.6325963654658, 600.9508216707449, 600.950821670745, 606.0429418926309, 606.0429418926309, 607.7204453377053, 607.7204453377054, 616.7524635533389, 616.752463553339, 621.267510017404, 621.2675100174042, 629.4405136390166, 629.4405136390167, 635.2796464681031, 635.2796464681031, 637.9569270028696, 637.9569270028696, 640.8370614658311, 640.8370614658311, 641.4012334772638, 641.4012334772639, 643.4223517197081, 643.4223517197081, 645.5483164666765, 645.5483164666766, 647.4915217618093, 647.4915217618093, 655.2965754633419, 655.2965754633419, 664.2647799461874, 664.2647799461874, 670.3798693252563, 670.3798693252563, 674.8802647920107, 674.8802647920107, 675.9785696638962, 675.9785696638965, 685.3372436197233, 685.3372436197234, 691.2274888169472, 691.2274888169474, 694.0259043040527, 694.0259043040528, 697.9766925394515, 697.9766925394516, 706.1744776060145, 706.1744776060145, 707.8467880703097, 707.8467880703097, 709.4996075464616, 709.4996075464616, 712.3041517814876, 712.3041517814878, 713.4958767560266, 713.4958767560266, 714.6981875406968, 714.6981875406971, 722.0264177234392, 722.0264177234392, 722.0275710330903, 722.0275710330903, 723.1569322308562, 723.1569322308562, 724.7179936628802, 724.7179936628803, 730.877934115543, 730.877934115543, 750.331798907216, 750.3317989072161, 752.3422839101986, 752.3422839101986, 766.6826844709248, 766.6826844709249, 767.1861267758972, 767.1861267758973, 767.3779408478109, 767.3779408478109, 775.7966793168466, 775.7966793168466, 786.3809683190947, 786.3809683190947, 793.0387978027724, 793.0387978027725, 796.9815623579547, 796.9815623579548, 798.1707363081666, 798.1707363081669, 800.6709738088337, 800.6709738088337, 806.0393165472505, 806.0393165472506, 809.0776729652924, 809.0776729652924, 810.2466140965456, 810.2466140965456, 810.3584751651676, 810.3584751651676, 812.4793234045464, 812.4793234045466, 820.8886194761692, 820.8886194761692, 824.1381726545868, 824.138172654587, 843.9933054213386, 843.9933054213386, 844.8554232976575, 844.8554232976576, 845.3606945741498, 845.3606945741499, 847.022807732096, 847.022807732096, 847.5648232489667, 847.564823248967, 854.5817990067435, 854.5817990067436, 859.5240515455085, 859.5240515455087, 860.3316922301557, 860.3316922301557, 866.1932186372596, 866.1932186372596, 873.6971297799633, 873.6971297799635, 873.7508842094009, 873.750884209401, 874.8121667645261, 874.8121667645262, 878.4841861393566, 878.4841861393566, 880.4469040809852, 880.4469040809853, 889.8729732362883, 889.8729732362884, 892.3352945289399, 892.33529452894, 894.5400822509143, 894.5400822509143, 901.5633213448241, 901.5633213448245, 903.0296051745851, 903.0296051745851, 904.6707841573477, 904.6707841573477, 910.008950178893, 910.008950178893, 910.8951937971104, 910.8951937971104, 913.934059961522, 913.9340599615222, 914.1992681031518, 914.1992681031519, 917.8771827751801, 917.8771827751802, 918.1176954757677, 918.1176954757677, 935.642274838607, 935.642274838607, 946.2804422039438, 946.2804422039438, 947.0802940112012, 947.0802940112012, 949.0949566691215, 949.0949566691215, 949.5226300850738, 949.5226300850738, 950.293256488791, 950.293256488791, 952.1310727283158, 952.1310727283158, 952.9398573442967, 952.9398573442967, 957.9029080564612, 957.9029080564612, 960.4673008821337, 960.4673008821339, 960.7664194074212, 960.7664194074212, 961.9177524598804, 961.9177524598805, 962.1838458446377, 962.1838458446377, 969.0688336746501, 969.0688336746501, 970.6822041007123, 970.6822041007124, 973.1775166654803, 973.1775166654804, 975.270294105, 975.2702941050001, 978.3470531606565, 978.3470531606565, 982.1197471526282, 982.1197471526284, 986.8688062823013, 986.8688062823014, 989.0446580394762, 989.0446580394763, 989.720214191198, 989.7202141911981, 994.0200882370746, 994.0200882370748, 1000.8435987472811, 1000.8435987472811, 1003.0192359600265, 1003.0192359600267, 1003.2348086831535, 1003.2348086831535, 1010.9039429619527, 1010.9039429619527, 1011.6208869810704, 1011.6208869810706, 1016.1372190445431, 1016.1372190445431, 1028.2529595797957, 1028.2529595797957, 1029.4941786278825, 1029.4941786278825, 1030.2220755574454, 1030.2220755574456, 1040.2594407411239, 1040.2594407411239, 1040.9441367013064, 1040.9441367013064, 1043.7171417730476, 1043.7171417730478, 1047.0954591400746, 1047.0954591400746, 1050.499943469296, 1050.499943469296, 1052.2704413343608, 1052.2704413343613, 1060.926806996501, 1060.926806996501, 1061.054720763954, 1061.054720763954, 1061.1925999163839, 1061.1925999163839, 1062.837012497686, 1062.8370124976861, 1074.485066326659, 1074.485066326659, 1075.8838401647954, 1075.8838401647954, 1076.6696785374918, 1076.6696785374918, 1079.488009305223, 1079.4880093052232, 1079.551139177721, 1079.551139177721, 1079.710775304793, 1079.7107753047933, 1080.9362057980366, 1080.9362057980366, 1093.1903659972065, 1093.1903659972068, 1095.5658984597048, 1095.5658984597048, 1099.2073505999206, 1099.2073505999206, 1101.2940218155873, 1101.2940218155875, 1101.2985470901613, 1101.2985470901615, 1101.7666049265247, 1101.7666049265247, 1102.0090836729116, 1102.0090836729119, 1102.8790929577274, 1102.8790929577274, 1112.0887760459548, 1112.0887760459548, 1115.2856697397735, 1115.2856697397735, 1146.7413620949842, 1146.7413620949842, 1153.1720013099036, 1153.1720013099039, 1161.6539067966094, 1161.6539067966094, 1161.9107673096637, 1161.910767309664, 1164.3199487547508, 1164.3199487547508, 1165.3505538125942, 1165.3505538125944, 1194.142745757807, 1194.142745757807, 1194.345199050445, 1194.3451990504452, 1197.2774783077634, 1197.2774783077634, 1204.7679011298458, 1204.7679011298458, 1210.790929866822, 1210.7909298668221, 1211.4815373799343, 1211.4815373799345, 1213.1385906803098, 1213.1385906803098, 1218.3739076531483, 1218.3739076531483, 1225.109036784217, 1225.109036784217, 1231.7986126418868, 1231.798612641887, 1232.6153231855574, 1232.6153231855578, 1238.9897470565893, 1238.9897470565897, 1246.3197359095384, 1246.3197359095384, 1250.1823843046634, 1250.182384304664, 1254.2459578822993, 1254.2459578822995, 1254.5674969303338, 1254.5674969303338, 1257.9223680980529, 1257.922368098053, 1259.783654895959, 1259.783654895959, 1260.7239510785876, 1260.7239510785878, 1260.7676078762904, 1260.7676078762904, 1261.198336570891, 1261.198336570891, 1263.418514156533, 1263.4185141565333, 1263.5328038464431, 1263.5328038464438, 1270.4590842411908, 1270.4590842411908, 1271.5401641839499, 1271.5401641839499, 1273.5192957270986, 1273.5192957270988, 1276.1203457003953, 1276.1203457003953, 1277.6468184680784, 1277.6468184680787, 1285.1582227403915, 1285.1582227403915, 1288.173314522269, 1288.1733145222695, 1302.9418060680177, 1302.9418060680177, 1316.6509258726353, 1316.6509258726355, 1323.977803948122, 1323.9778039481223, 1329.7231353528825, 1329.7231353528828, 1332.410148293407, 1332.4101482934075, 1334.729683097023, 1334.729683097023, 1337.2282601073875, 1337.2282601073875, 1343.520695334171, 1343.520695334171, 1349.2083536687533, 1349.2083536687533, 1352.3791714699114, 1352.3791714699114, 1356.8371327179182, 1356.8371327179182, 1361.9318011058017, 1361.9318011058017, 1373.8182848373008, 1373.818284837301, 1379.375207120506, 1379.375207120506, 1387.3047665001889, 1387.3047665001889, 1387.6266855453064, 1387.6266855453066, 1390.1635492727896, 1390.1635492727896, 1392.8431587770465, 1392.8431587770465, 1408.7770708652647, 1408.777070865265, 1410.3860686877017, 1410.3860686877017, 1417.5513652244254, 1417.5513652244254, 1422.2540483131486, 1422.2540483131488, 1427.9625764702646, 1427.962576470265, 1442.016027088834, 1442.016027088834, 1445.7276461615656, 1445.7276461615656, 1449.727671370475, 1449.727671370475, 1450.2308365988083, 1450.2308365988088, 1463.0796719323466, 1463.0796719323466, 1467.375700399956, 1467.3757003999563, 1472.0444762588274, 1472.0444762588277, 1484.000761719267, 1484.0007617192673, 1487.9879967329139, 1487.9879967329143, 1493.7621056053258, 1493.7621056053258, 1494.8768867786364, 1494.8768867786364, 1505.257315233881, 1505.2573152338812, 1509.1251114727224, 1509.1251114727227, 1511.4074230268782, 1511.4074230268782, 1512.9382813556865, 1512.9382813556865, 1518.8051430365658, 1518.8051430365658, 1532.6735803229008, 1532.673580322901, 1540.0227775193835, 1540.0227775193835, 1541.3433513130199, 1541.3433513130199, 1548.695283120667, 1548.695283120667, 1573.174807004938, 1573.1748070049384, 1578.0294750651776, 1578.0294750651776, 1590.677026050695, 1590.6770260506953, 1599.031700166224, 1599.031700166224, 1599.278436046436, 1599.2784360464361, 1601.8784516536339, 1601.878451653634, 1603.9685455212257, 1603.968545521226, 1604.9561435483465, 1604.956143548347, 1606.0501005473561, 1606.0501005473564, 1606.9285978305, 1606.9285978305002, 1607.1525229690283, 1607.1525229690287, 1608.542734810111, 1608.542734810111, 1611.1323177962588, 1611.1323177962588, 1612.5206314414509, 1612.520631441451, 1612.9057795121882, 1612.9057795121885, 1613.7729262745077, 1613.7729262745079, 1614.5024497198738, 1614.5024497198738, 1616.0089391168312, 1616.0089391168317, 1616.791329102991, 1616.791329102991, 1618.901576321043, 1618.9015763210432, 1619.5379020720225, 1619.5379020720225, 1620.7021693779238, 1620.7021693779245, 1622.6898868457188, 1622.6898868457188, 1627.8933384684983, 1627.8933384684985, 1630.2756957948313, 1630.2756957948318, 1634.4412656444558, 1634.4412656444558, 1635.152701749172, 1635.1527017491721, 1640.3732903112818, 1640.3732903112818, 1650.5172757486857, 1650.517275748686, 1659.90611134209, 1659.90611134209, 1661.1072664103253, 1661.1072664103253, 1667.1682281089074, 1667.1682281089074, 1674.8823402868006, 1674.8823402868009, 1677.6948586627645, 1677.6948586627648, 1679.081078605103, 1679.081078605103, 1698.3249477885854, 1698.3249477885854, 1703.3535621811347, 1703.353562181135, 1733.0626386110405, 1733.0626386110407, 1737.1459847785782, 1737.1459847785786, 1737.4861383295206, 1737.4861383295206, 1750.280761933453, 1750.280761933453, 1755.8815735391515, 1755.8815735391515, 1762.6256958000295, 1762.6256958000295, 1769.1533556499417, 1769.1533556499421, 1776.72323361284, 1776.72323361284, 1777.474871739812, 1777.474871739812, 1783.852488481918, 1783.8524884819203, 1791.0402048622007, 1791.0402048622009, 1796.2403496088782, 1796.2403496088782, 1799.1275124220601, 1799.1275124220604, 1809.498861845141, 1809.4988618451412, 1810.6066883704132, 1810.6066883704136, 1811.9219389694927, 1811.9219389694927, 1824.6673144773508, 1824.6673144773513, 1828.1949402175646, 1828.1949402175646, 1842.046177592612, 1842.0461775926121, 1855.8257808559188, 1855.8257808559188, 1873.3932554347662, 1873.3932554347673, 1876.0306979427858, 1876.0306979427858, 1879.7109619358723, 1879.7109619358723, 1883.9306491834745, 1883.9306491834757, 1912.8406107326464, 1912.8406107326468, 1918.8383080782494, 1918.8383080782498, 1918.9896589004104, 1918.9896589004104, 1921.7213753897784, 1921.7213753897793, 1928.2255257294619, 1928.2255257294623, 1931.035774836393, 1931.035774836393, 1931.9969029824547, 1931.9969029824551, 1933.7040857478848, 1933.704085747885, 1955.4967628883999, 1955.4967628883999, 1968.935761596393, 1968.9357615963936, 1984.9284717848366, 1984.9284717848368, 1989.8924522473476, 1989.8924522473478, 1990.826354359642, 1990.826354359642, 1994.0531643842587, 1994.053164384259, 2003.3891529547172, 2003.3891529547172, 2003.541275797683, 2003.5412757976833, 2003.6305052285013, 2003.6305052285015, 2011.0709280458398, 2011.0709280458407, 2031.323190266352, 2031.323190266352, 2034.4038876365832, 2034.4038876365835, 2036.5808318114164, 2036.5808318114164, 2041.8000569062542, 2041.8000569062544, 2047.0689431119797, 2047.0689431119802, 2056.5641322046986, 2056.5641322046986, 2057.660069299588, 2057.660069299588, 2069.4008001900334, 2069.400800190034, 2069.8046177161164, 2069.8046177161164, 2080.300714202874, 2080.300714202874, 2082.8686711990017, 2082.868671199002, 2097.235685159499, 2097.235685159499, 2103.5138514587534, 2103.5138514587534, 2116.176968042621, 2116.176968042622, 2121.348399444258, 2121.348399444259, 2127.7046609314884, 2127.7046609314884, 2144.6337345371, 2144.6337345371007, 2145.706025617403, 2145.7060256174036, 2148.9765950845426, 2148.976595084543, 2162.341373992609, 2162.341373992609, 2166.24581373599, 2166.24581373599, 2176.876356408159, 2176.87635640816, 2183.6056324371393, 2183.6056324371402, 2187.0943559206235, 2187.0943559206235, 2188.2496387340884, 2188.249638734089, 2192.6330992785897, 2192.6330992785897, 2200.720187434779, 2200.720187434779, 2228.231754274383, 2228.2317542743835, 2230.556332353846, 2230.556332353846, 2231.1766606802157, 2231.176660680216, 2236.4752472871664, 2236.4752472871664, 2237.10612055848, 2237.10612055848, 2241.0485761194313, 2241.0485761194323, 2268.245772689629, 2268.2457726896296, 2268.412911255156, 2268.4129112551564, 2299.941521544358, 2299.941521544358, 2304.8057776620713, 2304.8057776620713, 2309.998918582369, 2309.9989185823692, 2324.842488850623, 2324.842488850624, 2329.2530969265645, 2329.253096926565, 2336.8735787505566, 2336.8735787505575, 2341.6604804163226, 2341.6604804163226, 2347.9242857346553, 2347.9242857346553, 2353.084382717914, 2353.0843827179147, 2354.870970779234, 2354.870970779234, 2359.447234736585, 2359.447234736585, 2366.8588446947924, 2366.858844694793, 2380.8032368716417, 2380.803236871642, 2381.8843880104423, 2381.8843880104428, 2408.9421620448334, 2408.942162044834, 2416.209052300939, 2416.209052300939, 2418.395800544354, 2418.395800544354, 2419.043746655382, 2419.0437466553826, 2423.069783847519, 2423.06978384752, 2423.690188617745, 2423.690188617745, 2424.1063895787215, 2424.1063895787215, 2424.7981075620787, 2424.7981075620796, 2425.31327463644, 2425.3132746364404, 2428.345176133933, 2428.345176133933, 2429.6779613519925, 2429.6779613519934, 2431.7640113293537, 2431.7640113293537, 2433.12606945332, 2433.1260694533203, 2435.746474742578, 2435.746474742578, 2436.5044302140495, 2436.5044302140495, 2446.078170599324, 2446.0781705993245, 2446.802493528384, 2446.8024935283843, 2448.4794127689283, 2448.4794127689283, 2450.4352575758794, 2450.4352575758794, 2451.4254927190536, 2451.4254927190536, 2454.250106601067, 2454.2501066010677, 2473.0799564382132, 2473.0799564382137, 2486.7247025854576, 2486.7247025854576, 2506.2090301077606, 2506.209030107761, 2513.3371277065316, 2513.337127706532, 2520.6764036745153, 2520.6764036745158, 2527.347921719018, 2527.347921719019, 2530.6807930555747, 2530.6807930555747, 2539.56493357981, 2539.56493357981, 2557.3601308338452, 2557.3601308338452, 2561.050121134324, 2561.0501211343244, 2562.8197540541414, 2562.8197540541414, 2567.740423990517, 2567.7404239905177, 2575.5938051273265, 2575.593805127328, 2576.7114569227615, 2576.7114569227615, 2577.630997678853, 2577.630997678853, 2579.615240410813, 2579.615240410814, 2586.5698327026753, 2586.5698327026757, 2594.3069383372717, 2594.3069383372717, 2599.593038725352, 2599.593038725353, 2605.3995823464106, 2605.399582346412, 2617.3707741563985, 2617.3707741563994, 2626.684680200979, 2626.68468020098, 2642.651160791555, 2642.6511607915563, 2643.0061279908664, 2643.006127990867, 2654.215570285744, 2654.2155702857453, 2658.704169010984, 2658.704169010985, 2660.8046075317684, 2660.8046075317684, 2675.112578704251, 2675.112578704252, 2686.0684659532517, 2686.068465953252, 2700.720695488967, 2700.7206954889675, 2716.0133004356453, 2716.013300435646, 2717.000797706565, 2717.0007977065657, 2745.6640193851395, 2745.66401938514, 2747.3836339440572, 2747.383633944058, 2755.9853999359784, 2755.9853999359784, 2764.9488001059867, 2764.9488001059876, 2790.0339310820236, 2790.033931082024, 2792.970374223084, 2792.970374223084, 2801.9726106575963, 2801.9726106575963, 2806.8864828641067, 2806.886482864107, 2807.989512694364, 2807.9895126943647, 2810.629632661157, 2810.6296326611578, 2811.1836296820115, 2811.183629682012, 2815.6616534974296, 2815.661653497431, 2821.6091220648673, 2821.6091220648677, 2838.9803834565537, 2838.980383456554, 2845.817294644021, 2845.8172946440222, 2875.4462338378025, 2875.446233837803, 2884.8591327270965, 2884.8591327270965, 2888.8159451665642, 2888.8159451665647, 2888.893830622255, 2888.8938306222553, 2919.021535501689, 2919.0215355016894, 2923.650146487757, 2923.650146487757, 2925.008702232122, 2925.0087022321222, 2925.5085454064224, 2925.5085454064233, 2929.2213115623294, 2929.2213115623294, 2943.1371759436156, 2943.137175943616, 2959.291887053105, 2959.2918870531057, 2959.7723889969516, 2959.7723889969516, 2964.7196920538663, 2964.7196920538668, 2972.3408073601618, 2972.340807360162, 2982.50872326785, 2982.508723267851, 2992.091838761399, 2992.0918387613992, 3020.266606864647, 3020.266606864649, 3032.1118910498667, 3032.1118910498667, 3040.246661471205, 3040.2466614712052, 3060.4339291570004, 3060.4339291570013, 3063.856009677444, 3063.8560096774445, 3076.988351893314, 3076.9883518933166, 3082.723772106872, 3082.7237721068723, 3087.594765016724, 3087.5947650167245, 3094.650167334632, 3094.6501673346334, 3104.3554012615687, 3104.355401261569, 3111.2695232637243, 3111.269523263725, 3114.318119412425, 3114.3181194124254, 3136.638551428243, 3136.6385514282433, 3138.2320578655413, 3138.2320578655417, 3138.4376293921573, 3138.437629392158, 3160.268226889525, 3160.268226889526, 3182.544602813047, 3182.544602813048, 3192.5747487251433, 3192.5747487251438, 3193.643658326981, 3193.6436583269824, 3205.5148931439503, 3205.5148931439508, 3211.684675991204, 3211.684675991206, 3225.173697701399, 3225.173697701399, 3237.610291151681, 3237.6102911516814, 3245.2380961017047, 3245.238096101705, 3248.229966782759, 3248.2299667827597, 3261.574585329962, 3261.5745853299645, 3264.900754021676, 3264.9007540216767, 3271.4015574049445, 3271.401557404946, 3277.8425630062457, 3277.8425630062457, 3304.077799581044, 3304.0777995810445, 3328.315267312088, 3328.3152673120885, 3354.7986334751395, 3354.79863347514, 3359.246003350085, 3359.246003350086, 3376.9865133556873, 3376.986513355689, 3379.547803059384, 3379.547803059384, 3388.3784898404297, 3388.37848984043, 3398.618857208543, 3398.618857208543, 3406.364655124837, 3406.364655124838, 3421.951974262147, 3421.951974262148, 3437.7188225316986, 3437.7188225316995, 3446.575114940035, 3446.575114940036, 3466.155033709989, 3466.1550337099898, 3477.9636896280717, 3477.9636896280717, 3486.2232927900045, 3486.2232927900045, 3500.0574234823443, 3500.0574234823443, 3515.4237483364695, 3515.42374833647, 3518.098289503168, 3518.098289503169, 3521.3584198655312, 3521.3584198655312, 3525.8557619157496, 3525.8557619157496, 3532.239668515163, 3532.2396685151634, 3535.626378263624, 3535.6263782636247, 3536.602939044562, 3536.602939044562, 3537.650099870448, 3537.6500998704505, 3558.8858358342063, 3558.8858358342063, 3560.078009666051, 3560.078009666051, 3588.1183453478557, 3588.118345347856, 3593.904600966654, 3593.9046009666545, 3609.5827688717304, 3609.582768871732, 3622.770268918853, 3622.7702689188536, 3645.1710876969228, 3645.171087696924, 3662.204622535444, 3662.2046225354447, 3667.177109751564, 3667.1771097515643, 3671.958958514424, 3671.958958514425, 3707.870558606406, 3707.8705586064066, 3717.698185578627, 3717.698185578628, 3719.1796748418974, 3719.1796748418997, 3720.8562550778843, 3720.856255077887, 3742.8627605941424, 3742.8627605941433, 3752.8324613744803, 3752.832461374482, 3757.4339609911904, 3757.4339609911904, 3768.0529459589366, 3768.0529459589393, 3781.929548916393, 3781.9295489163937, 3793.8835643360194, 3793.8835643360203, 3796.1959395898602, 3796.1959395898616, 3831.1063289254116, 3831.106328925412, 3832.9595314903577, 3832.959531490361, 3843.1573823962112, 3843.157382396213, 3856.1831451346206, 3856.183145134622, 3870.518024498284, 3870.5180244982844, 3870.5921441427613, 3870.5921441427627, 3881.920409705556, 3881.9204097055563, 3921.141642829739, 3921.1416428297393, 3937.156919451993, 3937.1569194519943, 3956.9871497040867, 3956.987149704087, 3960.3323643136414, 3960.3323643136423, 3962.090695106261, 3962.0906951062616, 3984.208326184678, 3984.2083261846783, 4005.1460779445943, 4005.146077944596, 4007.302664677891, 4007.302664677891, 4015.952622449255, 4015.952622449256, 4020.0456658017333, 4020.0456658017333, 4023.25471631064, 4023.25471631064, 4029.520301625725, 4029.520301625726, 4041.5799114297083, 4041.5799114297097, 4049.3614408139442, 4049.361440813947, 4063.5938678550897, 4063.59386785509, 4071.322773712139, 4071.3227737121397, 4075.476578343554, 4075.476578343555, 4077.3913569352317, 4077.3913569352317, 4098.445983939136, 4098.445983939136, 4099.65597107855, 4099.655971078552, 4113.471946038172, 4113.471946038172, 4125.976193454074, 4125.976193454075, 4130.884654039078, 4130.884654039078, 4152.391922818194, 4152.391922818194, 4179.709491333883, 4179.709491333886, 4181.679189717877, 4181.67918971788, 4184.31409058181, 4184.31409058181, 4193.6480078656705, 4193.6480078656705, 4225.328210681856, 4225.328210681857, 4231.893318317684, 4231.893318317684, 4242.194127536547, 4242.194127536551, 4253.8466722694675, 4253.846672269468, 4270.589227427811, 4270.589227427811, 4278.0782271532735, 4278.078227153274, 4291.775356712565, 4291.775356712565, 4336.074032711939, 4336.074032711942, 4340.371399609592, 4340.371399609594, 4342.424406392369, 4342.42440639237, 4347.642526364518, 4347.6425263645215, 4351.773028306076, 4351.773028306077, 4365.460812839987, 4365.46081283999, 4367.017851235659, 4367.01785123566, 4383.186642650587, 4383.186642650588, 4390.43160119615, 4390.431601196151, 4427.015488373677, 4427.015488373678, 4429.673986677876, 4429.673986677879, 4448.113596191372, 4448.113596191373, 4459.8931117395005, 4459.8931117395005, 4464.110544879798, 4464.110544879798, 4499.929272900671, 4499.929272900671, 4515.723497366133, 4515.723497366133, 4527.280316725731, 4527.2803167257325, 4566.7600923998325, 4566.760092399838, 4602.416710919195, 4602.416710919196, 4646.326934921049, 4646.326934921049, 4659.152733637096, 4659.152733637098, 4684.519270382008, 4684.5192703820085, 4690.237351843925, 4690.237351843926, 4708.664865940774, 4708.664865940775, 4710.640563346274, 4710.640563346274, 4719.582325178057, 4719.5823251780575, 4726.1319708928495, 4726.13197089285, 4729.0211156732385, 4729.02111567324, 4732.782273652246, 4732.782273652248, 4738.6265702145665, 4738.626570214567, 4767.952027371297, 4767.952027371298, 4768.9785925817405, 4768.978592581742, 4810.309161418719, 4810.309161418721, 4821.166698592915, 4821.166698592915, 4827.00411158636, 4827.0041115863605, 4829.166400285154, 4829.166400285155, 4834.320939244657, 4834.320939244658, 4841.000703668156, 4841.000703668156, 4845.172300493554, 4845.172300493555, 4861.802846782093, 4861.802846782093, 4876.002087787286, 4876.002087787286, 4885.30594365745, 4885.305943657451, 4895.346856176869, 4895.34685617687, 4897.171455258216, 4897.171455258217, 4898.473006651934, 4898.473006651935, 4905.034345024568, 4905.034345024571, 4918.668348426643, 4918.668348426643, 4950.297911459767, 4950.297911459768, 4973.105158110105, 4973.1051581101065, 4992.742621966468, 4992.7426219664685, 5009.152990841918, 5009.152990841918, 5018.88777076801, 5018.887770768013, 5033.449212878247, 5033.449212878248, 5039.697237722948, 5039.697237722949, 5049.744766147462, 5049.744766147462, 5056.308621811052, 5056.308621811053, 5062.777185385935, 5062.777185385935, 5067.890096690554, 5067.890096690558, 5084.851548775325, 5084.851548775325, 5092.029097388112, 5092.029097388113, 5115.003270670533, 5115.003270670533, 5121.21730285988, 5121.21730285988, 5134.296144429749, 5134.296144429749, 5135.839034411874, 5135.839034411875, 5137.303105195879, 5137.303105195879, 5180.166861523115, 5180.166861523116, 5181.404496045246, 5181.404496045246, 5211.847590921682, 5211.847590921683, 5213.362911222238, 5213.362911222239, 5221.528867397632, 5221.528867397633, 5224.5466444708645, 5224.546644470866, 5225.324609097771, 5225.324609097771, 5236.470433561406, 5236.470433561408, 5249.776497449554, 5249.776497449555, 5266.392318591211, 5266.392318591214, 5271.440000492936, 5271.440000492937, 5315.071911730813, 5315.071911730814, 5330.108608601662, 5330.108608601663, 5331.514354000577, 5331.514354000578, 5344.4689120650155, 5344.468912065016, 5354.904253462653, 5354.904253462653, 5355.174825026092, 5355.174825026093, 5374.636085447436, 5374.636085447438, 5385.417623573436, 5385.417623573436, 5391.110007821352, 5391.110007821353, 5405.6529948966145, 5405.6529948966145, 5423.464856826808, 5423.464856826808, 5454.162906079435, 5454.1629060794385, 5461.894370156594, 5461.894370156595, 5472.351679679719, 5472.351679679719, 5504.474968747563, 5504.474968747564, 5535.135138524898, 5535.135138524899, 5547.547739140583, 5547.547739140584, 5553.688927653852, 5553.688927653854, 5562.646346446589, 5562.64634644659, 5580.742245136565, 5580.742245136566, 5636.290741665628, 5636.29074166563, 5646.233300874086, 5646.233300874087, 5650.014694540729, 5650.014694540729, 5653.773032330466, 5653.773032330468, 5670.706575509804, 5670.706575509804, 5674.441732447665, 5674.441732447665, 5688.287099108526, 5688.2870991085265, 5710.113339975263, 5710.113339975265, 5742.331589584073, 5742.331589584073, 5767.635593064188, 5767.635593064188, 5808.89018738968, 5808.890187389685, 5817.6100547471115, 5817.6100547471115, 5828.506207122766, 5828.506207122767, 5830.962093689708, 5830.962093689709, 5842.173745221922, 5842.173745221928, 5842.210715701449, 5842.210715701451, 5856.037996470388, 5856.037996470388, 5887.7343128526, 5887.734312852603, 5891.155930841469, 5891.155930841473, 5956.456697745057, 5956.456697745058, 5980.560602825182, 5980.560602825185, 5994.259265155801, 5994.2592651558025]\n"
     ]
    }
   ],
   "source": [
    "borders = check_small_boundary_lengths(vest_base)\n",
    "print(borders[:1700])"
   ]
  },
  {
   "cell_type": "markdown",
   "id": "156b0a8b-f063-4885-adfc-98afe9212c39",
   "metadata": {},
   "source": [
    "It's not clear what the cutoff should be here; let's use 30.5."
   ]
  },
  {
   "cell_type": "code",
   "execution_count": 25,
   "id": "6b5b2618-2301-4128-8e6f-5f05eb2edaa8",
   "metadata": {},
   "outputs": [
    {
     "name": "stdout",
     "output_type": "stream",
     "text": [
      "Snapping all geometries to a grid with precision 10^( -5 ) to avoid GEOS errors.\n",
      "Identifying overlaps...\n"
     ]
    },
    {
     "name": "stderr",
     "output_type": "stream",
     "text": [
      "100%|██████████████████████████████████████████████████████████████████| 773/773 [00:00<00:00, 1361.29it/s]\n"
     ]
    },
    {
     "name": "stdout",
     "output_type": "stream",
     "text": [
      "Resolving overlaps...\n",
      "Filling gaps...\n"
     ]
    },
    {
     "name": "stderr",
     "output_type": "stream",
     "text": [
      "Gaps to simplify: 0it [00:00, ?it/s]\n",
      "Gaps to fill: 0it [00:00, ?it/s]\n"
     ]
    },
    {
     "name": "stdout",
     "output_type": "stream",
     "text": [
      "Converting small rook adjacencies to queen...\n"
     ]
    },
    {
     "name": "stderr",
     "output_type": "stream",
     "text": [
      "100%|███████████████████████████████████████████████████████████████████| 666/666 [00:01<00:00, 494.64it/s]\n",
      "100%|██████████████████████████████████████████████████████████████████████| 4/4 [00:00<00:00, 2803.21it/s]\n",
      "100%|██████████████████████████████████████████████████████████████████████| 4/4 [00:00<00:00, 2802.74it/s]\n",
      "100%|██████████████████████████████████████████████████████████████████████| 4/4 [00:00<00:00, 3034.40it/s]\n",
      "100%|██████████████████████████████████████████████████████████████████████| 4/4 [00:00<00:00, 2789.23it/s]\n",
      "100%|██████████████████████████████████████████████████████████████████████| 4/4 [00:00<00:00, 2696.87it/s]\n",
      "100%|██████████████████████████████████████████████████████████████████████| 5/5 [00:00<00:00, 2843.98it/s]\n",
      "100%|██████████████████████████████████████████████████████████████████████| 4/4 [00:00<00:00, 2140.22it/s]\n",
      "100%|██████████████████████████████████████████████████████████████████████| 4/4 [00:00<00:00, 2631.31it/s]\n",
      "100%|██████████████████████████████████████████████████████████████████████| 4/4 [00:00<00:00, 2664.32it/s]\n",
      "100%|██████████████████████████████████████████████████████████████████████| 7/7 [00:00<00:00, 2731.17it/s]\n",
      "100%|██████████████████████████████████████████████████████████████████████| 5/5 [00:00<00:00, 2426.14it/s]\n",
      "100%|██████████████████████████████████████████████████████████████████████| 4/4 [00:00<00:00, 2146.25it/s]\n",
      "100%|██████████████████████████████████████████████████████████████████████| 4/4 [00:00<00:00, 2405.34it/s]\n",
      "100%|██████████████████████████████████████████████████████████████████████| 4/4 [00:00<00:00, 1990.18it/s]\n",
      "100%|██████████████████████████████████████████████████████████████████████| 4/4 [00:00<00:00, 2278.89it/s]\n",
      "100%|██████████████████████████████████████████████████████████████████████| 4/4 [00:00<00:00, 1179.58it/s]\n",
      "100%|███████████████████████████████████████████████████████████████████| 666/666 [00:02<00:00, 222.67it/s]\n"
     ]
    }
   ],
   "source": [
    "vest_base = do_smart_repair(vest_base, min_rook_length = 30.5)"
   ]
  },
  {
   "cell_type": "code",
   "execution_count": 26,
   "id": "20174fe6",
   "metadata": {},
   "outputs": [
    {
     "name": "stderr",
     "output_type": "stream",
     "text": [
      "100%|███████████████████████████████████████████████████████████████████| 666/666 [00:01<00:00, 557.82it/s]\n"
     ]
    },
    {
     "data": {
      "text/plain": [
       "True"
      ]
     },
     "execution_count": 26,
     "metadata": {},
     "output_type": "execute_result"
    }
   ],
   "source": [
    "maup.doctor(vest_base)"
   ]
  },
  {
   "cell_type": "markdown",
   "id": "390e9e6b",
   "metadata": {},
   "source": [
    "If it is true for maup doctor, we will use it as the base vest data."
   ]
  },
  {
   "cell_type": "code",
   "execution_count": 27,
   "id": "10e48467-d392-4312-b15f-bf18106f354c",
   "metadata": {},
   "outputs": [
    {
     "name": "stderr",
     "output_type": "stream",
     "text": [
      "100%|███████████████████████████████████████████████████████████████████| 666/666 [00:01<00:00, 401.00it/s]\n",
      "100%|████████████████████████████████████████████████████████████████████| 666/666 [00:08<00:00, 74.72it/s]\n"
     ]
    }
   ],
   "source": [
    "# vap and population have the same GEOID20\n",
    "blocks_to_precincts_assignment = maup.assign(population_df.geometry, vest_base.geometry)"
   ]
  },
  {
   "cell_type": "code",
   "execution_count": 28,
   "id": "ac015a92-391c-48c4-b26a-5c511b58e3ab",
   "metadata": {},
   "outputs": [],
   "source": [
    "pop_col = ['TOTPOP', 'HISP', 'NH_WHITE', 'NH_BLACK', 'NH_AMIN', 'NH_ASIAN', 'NH_NHPI', 'NH_OTHER', 'NH_2MORE', 'H_WHITE', 'H_BLACK', 'H_AMIN', 'H_ASIAN', 'H_NHPI', 'H_OTHER', 'H_2MORE', 'VAP', 'HVAP', 'WVAP', 'BVAP', 'AMINVAP', 'ASIANVAP', 'NHPIVAP', 'OTHERVAP', '2MOREVAP']"
   ]
  },
  {
   "cell_type": "code",
   "execution_count": 29,
   "id": "f91b6866-727d-40c9-9d43-4a0e6ae8c0e2",
   "metadata": {},
   "outputs": [],
   "source": [
    "vest_base[pop_col] = population_df[pop_col].groupby(blocks_to_precincts_assignment).sum()"
   ]
  },
  {
   "cell_type": "code",
   "execution_count": 30,
   "id": "ead5880d-f5f1-44f0-8024-ff4789ff2f15",
   "metadata": {},
   "outputs": [],
   "source": [
    "# election_df = gpd.GeoDataFrame(vest_base, crs=\"EPSG:4269\")\n",
    "election_df = gpd.GeoDataFrame(vest_base)"
   ]
  },
  {
   "cell_type": "code",
   "execution_count": 31,
   "id": "6ef85f15-1ca2-44ed-8d38-6dfade90e446",
   "metadata": {},
   "outputs": [
    {
     "data": {
      "text/plain": [
       "Index(['ATG20D', 'ATG20R', 'AUD20D', 'AUD20O', 'AUD20R', 'COUNTY',\n",
       "       'COUNTYFP10', 'GOV20D', 'GOV20O', 'GOV20R', 'HAL20D', 'HAL20R', 'NAME',\n",
       "       'PRE20D', 'PRE20O', 'PRE20R', 'SOS20D', 'SOS20R', 'SOSPRECINC',\n",
       "       'SPI20D', 'SPI20O', 'SPI20R', 'STATEFP10', 'USS20D', 'USS20R',\n",
       "       'geometry', 'TOTPOP', 'HISP', 'NH_WHITE', 'NH_BLACK', 'NH_AMIN',\n",
       "       'NH_ASIAN', 'NH_NHPI', 'NH_OTHER', 'NH_2MORE', 'H_WHITE', 'H_BLACK',\n",
       "       'H_AMIN', 'H_ASIAN', 'H_NHPI', 'H_OTHER', 'H_2MORE', 'VAP', 'HVAP',\n",
       "       'WVAP', 'BVAP', 'AMINVAP', 'ASIANVAP', 'NHPIVAP', 'OTHERVAP',\n",
       "       '2MOREVAP'],\n",
       "      dtype='object')"
      ]
     },
     "execution_count": 31,
     "metadata": {},
     "output_type": "execute_result"
    }
   ],
   "source": [
    "election_df.columns"
   ]
  },
  {
   "cell_type": "markdown",
   "id": "cf1aefdb-30e0-4d1f-9261-01a513f4e1d3",
   "metadata": {},
   "source": [
    "### Check if the population agrees"
   ]
  },
  {
   "cell_type": "code",
   "execution_count": 32,
   "id": "d6ff200d-d1d6-4f7d-ba3b-142cddc0eb85",
   "metadata": {},
   "outputs": [
    {
     "name": "stdout",
     "output_type": "stream",
     "text": [
      "population agrees\n"
     ]
    }
   ],
   "source": [
    "check_population(population_df, vest_base)"
   ]
  },
  {
   "cell_type": "markdown",
   "id": "2b677d1a-cbe3-47aa-ae8a-761d0dfc7ad1",
   "metadata": {},
   "source": [
    "# Add more vest data"
   ]
  },
  {
   "cell_type": "code",
   "execution_count": 33,
   "id": "a404637a-46a1-41f4-bd81-6842a9a7274c",
   "metadata": {},
   "outputs": [],
   "source": [
    "vest18 = gpd.read_file(vest18_data)"
   ]
  },
  {
   "cell_type": "code",
   "execution_count": 34,
   "id": "d94c3765-b784-4e9b-9b29-0c8a3bbdbf0d",
   "metadata": {},
   "outputs": [
    {
     "data": {
      "text/plain": [
       "Index(['STATEFP10', 'COUNTYFP10', 'COUNTY', 'NAME', 'SOSPRECINC', 'G18USSRROS',\n",
       "       'G18USSDTES', 'G18USSLBRE', 'G18HALRGIA', 'G18HALDWIL', 'G18HALLSWA',\n",
       "       'G18CSCRGRE', 'G18CSCDREN', 'G18CSCLROO', 'geometry'],\n",
       "      dtype='object')"
      ]
     },
     "execution_count": 34,
     "metadata": {},
     "output_type": "execute_result"
    }
   ],
   "source": [
    "vest18.columns"
   ]
  },
  {
   "cell_type": "code",
   "execution_count": 35,
   "id": "5528f64a-1b5c-4b9f-b7cf-aefa45d4d25f",
   "metadata": {},
   "outputs": [
    {
     "name": "stderr",
     "output_type": "stream",
     "text": [
      "100%|███████████████████████████████████████████████████████████████████| 672/672 [00:01<00:00, 566.17it/s]\n"
     ]
    },
    {
     "name": "stdout",
     "output_type": "stream",
     "text": [
      "There are 1 overlaps.\n",
      "Snapping all geometries to a grid with precision 10^( -5 ) to avoid GEOS errors.\n",
      "Identifying overlaps...\n"
     ]
    },
    {
     "name": "stderr",
     "output_type": "stream",
     "text": [
      "100%|██████████████████████████████████████████████████████████████████| 781/781 [00:00<00:00, 2796.26it/s]\n"
     ]
    },
    {
     "name": "stdout",
     "output_type": "stream",
     "text": [
      "Resolving overlaps...\n",
      "Assigning order 2 pieces...\n",
      "Filling gaps...\n"
     ]
    },
    {
     "name": "stderr",
     "output_type": "stream",
     "text": [
      "Gaps to simplify: 0it [00:00, ?it/s]\n",
      "Gaps to fill: 0it [00:00, ?it/s]\n",
      "100%|███████████████████████████████████████████████████████████████████| 672/672 [00:01<00:00, 583.99it/s]\n",
      "100%|███████████████████████████████████████████████████████████████████| 672/672 [00:01<00:00, 347.58it/s]\n",
      "100%|████████████████████████████████████████████████████████████████████| 672/672 [00:08<00:00, 81.81it/s]\n",
      "100%|███████████████████████████████████████████████████████████████████| 666/666 [00:01<00:00, 370.92it/s]\n",
      "100%|████████████████████████████████████████████████████████████████████| 666/666 [00:08<00:00, 75.40it/s]\n"
     ]
    },
    {
     "name": "stdout",
     "output_type": "stream",
     "text": [
      "population agrees\n"
     ]
    }
   ],
   "source": [
    "# check the result here\n",
    "start_col = 5\n",
    "election_df = add_vest(vest18, election_df, '18', population_df, start_col)"
   ]
  },
  {
   "cell_type": "markdown",
   "id": "404986b1-549a-4014-8d2a-0fefe7c7179a",
   "metadata": {},
   "source": [
    "### vest 16"
   ]
  },
  {
   "cell_type": "code",
   "execution_count": 36,
   "id": "4d7476dd-c003-4fa5-ab9b-8ed6f75bed39",
   "metadata": {
    "tags": []
   },
   "outputs": [
    {
     "data": {
      "text/plain": [
       "Index(['STATEFP10', 'COUNTYFP10', 'COUNTY', 'NAME', 'SOSPRECINC', 'G16PRERTRU',\n",
       "       'G16PREDCLI', 'G16PRELJOH', 'G16PREGSTE', 'G16PREOFUE', 'G16HALRZIN',\n",
       "       'G16HALDJUN', 'G16HALLBRE', 'G16GOVRGIA', 'G16GOVDBUL', 'G16GOVLDUN',\n",
       "       'G16ATGRFOX', 'G16ATGDJEN', 'G16SOSRSTA', 'G16SOSDLIN', 'G16SOSLROO',\n",
       "       'G16AUDRROS', 'G16AUDDLAS', 'G16SPIRARN', 'G16SPIDROM', 'geometry'],\n",
       "      dtype='object')"
      ]
     },
     "execution_count": 36,
     "metadata": {},
     "output_type": "execute_result"
    }
   ],
   "source": [
    "vest16 = gpd.read_file(vest16_data)\n",
    "vest16.columns"
   ]
  },
  {
   "cell_type": "code",
   "execution_count": 37,
   "id": "579d1844-0a2c-4bf4-889d-a2234738cd2a",
   "metadata": {},
   "outputs": [
    {
     "name": "stderr",
     "output_type": "stream",
     "text": [
      "100%|███████████████████████████████████████████████████████████████████| 689/689 [00:02<00:00, 293.60it/s]\n"
     ]
    },
    {
     "name": "stdout",
     "output_type": "stream",
     "text": [
      "There are 7 overlaps.\n",
      "Snapping all geometries to a grid with precision 10^( -5 ) to avoid GEOS errors.\n",
      "Identifying overlaps...\n"
     ]
    },
    {
     "name": "stderr",
     "output_type": "stream",
     "text": [
      "100%|██████████████████████████████████████████████████████████████████| 812/812 [00:00<00:00, 2347.91it/s]\n"
     ]
    },
    {
     "name": "stdout",
     "output_type": "stream",
     "text": [
      "Resolving overlaps...\n",
      "Assigning order 2 pieces...\n",
      "Filling gaps...\n"
     ]
    },
    {
     "name": "stderr",
     "output_type": "stream",
     "text": [
      "Gaps to simplify: 0it [00:00, ?it/s]\n",
      "Gaps to fill: 0it [00:00, ?it/s]\n",
      "100%|███████████████████████████████████████████████████████████████████| 689/689 [00:01<00:00, 578.16it/s]\n",
      "100%|███████████████████████████████████████████████████████████████████| 689/689 [00:01<00:00, 359.87it/s]\n",
      "100%|████████████████████████████████████████████████████████████████████| 689/689 [00:07<00:00, 88.45it/s]\n",
      "100%|███████████████████████████████████████████████████████████████████| 666/666 [00:01<00:00, 392.94it/s]\n",
      "100%|████████████████████████████████████████████████████████████████████| 666/666 [00:08<00:00, 77.77it/s]\n"
     ]
    },
    {
     "name": "stdout",
     "output_type": "stream",
     "text": [
      "population agrees\n"
     ]
    }
   ],
   "source": [
    "start_col = 5\n",
    "election_df = add_vest(vest16, election_df, '16', population_df, start_col)"
   ]
  },
  {
   "cell_type": "markdown",
   "id": "10cf83d4-6005-485b-8193-c0149869a97e",
   "metadata": {},
   "source": [
    "## Add the district data"
   ]
  },
  {
   "cell_type": "code",
   "execution_count": 38,
   "id": "a0ccb606-7fe4-4b0a-998b-337d31f4abc5",
   "metadata": {},
   "outputs": [],
   "source": [
    "cong_df = gpd.read_file(cd_data)\n",
    "cong_df = cong_df.to_crs(cong_df.estimate_utm_crs())\n",
    "send = gpd.read_file(send_data)\n",
    "send = send.to_crs(send.estimate_utm_crs())\n",
    "hdist = gpd.read_file(hdist_data)\n",
    "hdist = hdist.to_crs(hdist.estimate_utm_crs())"
   ]
  },
  {
   "cell_type": "code",
   "execution_count": 39,
   "id": "dd5dba22-3d02-4361-9408-db49f0a1ac4d",
   "metadata": {},
   "outputs": [
    {
     "data": {
      "text/html": [
       "<div>\n",
       "<style scoped>\n",
       "    .dataframe tbody tr th:only-of-type {\n",
       "        vertical-align: middle;\n",
       "    }\n",
       "\n",
       "    .dataframe tbody tr th {\n",
       "        vertical-align: top;\n",
       "    }\n",
       "\n",
       "    .dataframe thead th {\n",
       "        text-align: right;\n",
       "    }\n",
       "</style>\n",
       "<table border=\"1\" class=\"dataframe\">\n",
       "  <thead>\n",
       "    <tr style=\"text-align: right;\">\n",
       "      <th></th>\n",
       "      <th>ID</th>\n",
       "      <th>geometry</th>\n",
       "    </tr>\n",
       "  </thead>\n",
       "  <tbody>\n",
       "    <tr>\n",
       "      <th>0</th>\n",
       "      <td>1</td>\n",
       "      <td>POLYGON ((496448.169 4983056.921, 496409.156 4...</td>\n",
       "    </tr>\n",
       "    <tr>\n",
       "      <th>1</th>\n",
       "      <td>2</td>\n",
       "      <td>POLYGON ((350088.473 5332827.045, 351262.082 5...</td>\n",
       "    </tr>\n",
       "  </tbody>\n",
       "</table>\n",
       "</div>"
      ],
      "text/plain": [
       "   ID                                           geometry\n",
       "0   1  POLYGON ((496448.169 4983056.921, 496409.156 4...\n",
       "1   2  POLYGON ((350088.473 5332827.045, 351262.082 5..."
      ]
     },
     "execution_count": 39,
     "metadata": {},
     "output_type": "execute_result"
    }
   ],
   "source": [
    "cong_df.head()"
   ]
  },
  {
   "cell_type": "code",
   "execution_count": 40,
   "id": "72749f5b-c569-4a6b-a068-663267c845e6",
   "metadata": {},
   "outputs": [
    {
     "data": {
      "text/html": [
       "<div>\n",
       "<style scoped>\n",
       "    .dataframe tbody tr th:only-of-type {\n",
       "        vertical-align: middle;\n",
       "    }\n",
       "\n",
       "    .dataframe tbody tr th {\n",
       "        vertical-align: top;\n",
       "    }\n",
       "\n",
       "    .dataframe thead th {\n",
       "        text-align: right;\n",
       "    }\n",
       "</style>\n",
       "<table border=\"1\" class=\"dataframe\">\n",
       "  <thead>\n",
       "    <tr style=\"text-align: right;\">\n",
       "      <th></th>\n",
       "      <th>ID</th>\n",
       "      <th>AREA</th>\n",
       "      <th>DISTRICT</th>\n",
       "      <th>MEMBERS</th>\n",
       "      <th>LOCKED</th>\n",
       "      <th>NAME</th>\n",
       "      <th>ADJ_POPULA</th>\n",
       "      <th>ADJSUP_AMI</th>\n",
       "      <th>ADJSUP_BLA</th>\n",
       "      <th>ADJSUP_ASI</th>\n",
       "      <th>...</th>\n",
       "      <th>DEVIATION</th>\n",
       "      <th>F_DEVIATIO</th>\n",
       "      <th>F_ADJSUP_A</th>\n",
       "      <th>F_ADJSUP_1</th>\n",
       "      <th>F_ADJSUP_2</th>\n",
       "      <th>F_ADJSUP_B</th>\n",
       "      <th>F_ADJSUP_3</th>\n",
       "      <th>F_ADJSUP_N</th>\n",
       "      <th>DISTRICT_L</th>\n",
       "      <th>geometry</th>\n",
       "    </tr>\n",
       "  </thead>\n",
       "  <tbody>\n",
       "    <tr>\n",
       "      <th>0</th>\n",
       "      <td>2</td>\n",
       "      <td>4203.362305</td>\n",
       "      <td>1</td>\n",
       "      <td>1.0</td>\n",
       "      <td>None</td>\n",
       "      <td>SD01</td>\n",
       "      <td>21727</td>\n",
       "      <td>246</td>\n",
       "      <td>38</td>\n",
       "      <td>116</td>\n",
       "      <td>...</td>\n",
       "      <td>73.0</td>\n",
       "      <td>0.003371</td>\n",
       "      <td>0.011322</td>\n",
       "      <td>0.810742</td>\n",
       "      <td>0.011297</td>\n",
       "      <td>0.001749</td>\n",
       "      <td>0.005339</td>\n",
       "      <td>0.899296</td>\n",
       "      <td>1|0.34%</td>\n",
       "      <td>POLYGON ((227423.608 5434208.227, 227397.041 5...</td>\n",
       "    </tr>\n",
       "    <tr>\n",
       "      <th>1</th>\n",
       "      <td>5</td>\n",
       "      <td>2238.900146</td>\n",
       "      <td>2</td>\n",
       "      <td>1.0</td>\n",
       "      <td>None</td>\n",
       "      <td>SD02</td>\n",
       "      <td>21538</td>\n",
       "      <td>187</td>\n",
       "      <td>58</td>\n",
       "      <td>119</td>\n",
       "      <td>...</td>\n",
       "      <td>-116.0</td>\n",
       "      <td>-0.005357</td>\n",
       "      <td>0.008682</td>\n",
       "      <td>0.805785</td>\n",
       "      <td>0.009046</td>\n",
       "      <td>0.002693</td>\n",
       "      <td>0.005525</td>\n",
       "      <td>0.897762</td>\n",
       "      <td>2|-0.54%</td>\n",
       "      <td>POLYGON ((273895.630 5373287.798, 273886.603 5...</td>\n",
       "    </tr>\n",
       "    <tr>\n",
       "      <th>2</th>\n",
       "      <td>8</td>\n",
       "      <td>450.303955</td>\n",
       "      <td>3</td>\n",
       "      <td>1.0</td>\n",
       "      <td>None</td>\n",
       "      <td>SD03</td>\n",
       "      <td>21853</td>\n",
       "      <td>176</td>\n",
       "      <td>47</td>\n",
       "      <td>124</td>\n",
       "      <td>...</td>\n",
       "      <td>199.0</td>\n",
       "      <td>0.009190</td>\n",
       "      <td>0.008054</td>\n",
       "      <td>0.774402</td>\n",
       "      <td>0.007564</td>\n",
       "      <td>0.002151</td>\n",
       "      <td>0.005674</td>\n",
       "      <td>0.900426</td>\n",
       "      <td>3|0.92%</td>\n",
       "      <td>POLYGON ((214229.864 5348595.517, 214250.244 5...</td>\n",
       "    </tr>\n",
       "    <tr>\n",
       "      <th>3</th>\n",
       "      <td>11</td>\n",
       "      <td>14.699925</td>\n",
       "      <td>4</td>\n",
       "      <td>1.0</td>\n",
       "      <td>None</td>\n",
       "      <td>SD04</td>\n",
       "      <td>21463</td>\n",
       "      <td>303</td>\n",
       "      <td>77</td>\n",
       "      <td>213</td>\n",
       "      <td>...</td>\n",
       "      <td>-191.0</td>\n",
       "      <td>-0.008821</td>\n",
       "      <td>0.014117</td>\n",
       "      <td>0.779481</td>\n",
       "      <td>0.014226</td>\n",
       "      <td>0.003588</td>\n",
       "      <td>0.009924</td>\n",
       "      <td>0.878069</td>\n",
       "      <td>4|-0.88%</td>\n",
       "      <td>POLYGON ((253122.094 5346267.069, 253127.802 5...</td>\n",
       "    </tr>\n",
       "    <tr>\n",
       "      <th>4</th>\n",
       "      <td>14</td>\n",
       "      <td>316.578522</td>\n",
       "      <td>5</td>\n",
       "      <td>1.0</td>\n",
       "      <td>None</td>\n",
       "      <td>SD05</td>\n",
       "      <td>21696</td>\n",
       "      <td>189</td>\n",
       "      <td>66</td>\n",
       "      <td>170</td>\n",
       "      <td>...</td>\n",
       "      <td>42.0</td>\n",
       "      <td>0.001940</td>\n",
       "      <td>0.008711</td>\n",
       "      <td>0.762168</td>\n",
       "      <td>0.008648</td>\n",
       "      <td>0.003042</td>\n",
       "      <td>0.007836</td>\n",
       "      <td>0.897032</td>\n",
       "      <td>5|0.19%</td>\n",
       "      <td>POLYGON ((238275.690 5347425.819, 238288.530 5...</td>\n",
       "    </tr>\n",
       "  </tbody>\n",
       "</table>\n",
       "<p>5 rows × 24 columns</p>\n",
       "</div>"
      ],
      "text/plain": [
       "   ID         AREA DISTRICT  MEMBERS LOCKED  NAME  ADJ_POPULA  ADJSUP_AMI  \\\n",
       "0   2  4203.362305        1      1.0   None  SD01       21727         246   \n",
       "1   5  2238.900146        2      1.0   None  SD02       21538         187   \n",
       "2   8   450.303955        3      1.0   None  SD03       21853         176   \n",
       "3  11    14.699925        4      1.0   None  SD04       21463         303   \n",
       "4  14   316.578522        5      1.0   None  SD05       21696         189   \n",
       "\n",
       "   ADJSUP_BLA  ADJSUP_ASI  ...  DEVIATION  F_DEVIATIO  F_ADJSUP_A  F_ADJSUP_1  \\\n",
       "0          38         116  ...       73.0    0.003371    0.011322    0.810742   \n",
       "1          58         119  ...     -116.0   -0.005357    0.008682    0.805785   \n",
       "2          47         124  ...      199.0    0.009190    0.008054    0.774402   \n",
       "3          77         213  ...     -191.0   -0.008821    0.014117    0.779481   \n",
       "4          66         170  ...       42.0    0.001940    0.008711    0.762168   \n",
       "\n",
       "   F_ADJSUP_2  F_ADJSUP_B  F_ADJSUP_3  F_ADJSUP_N  DISTRICT_L  \\\n",
       "0    0.011297    0.001749    0.005339    0.899296     1|0.34%   \n",
       "1    0.009046    0.002693    0.005525    0.897762    2|-0.54%   \n",
       "2    0.007564    0.002151    0.005674    0.900426     3|0.92%   \n",
       "3    0.014226    0.003588    0.009924    0.878069    4|-0.88%   \n",
       "4    0.008648    0.003042    0.007836    0.897032     5|0.19%   \n",
       "\n",
       "                                            geometry  \n",
       "0  POLYGON ((227423.608 5434208.227, 227397.041 5...  \n",
       "1  POLYGON ((273895.630 5373287.798, 273886.603 5...  \n",
       "2  POLYGON ((214229.864 5348595.517, 214250.244 5...  \n",
       "3  POLYGON ((253122.094 5346267.069, 253127.802 5...  \n",
       "4  POLYGON ((238275.690 5347425.819, 238288.530 5...  \n",
       "\n",
       "[5 rows x 24 columns]"
      ]
     },
     "execution_count": 40,
     "metadata": {},
     "output_type": "execute_result"
    }
   ],
   "source": [
    "send.head()"
   ]
  },
  {
   "cell_type": "code",
   "execution_count": 41,
   "id": "9d988b70-56a2-4b00-9b81-36384c278f37",
   "metadata": {},
   "outputs": [
    {
     "data": {
      "text/html": [
       "<div>\n",
       "<style scoped>\n",
       "    .dataframe tbody tr th:only-of-type {\n",
       "        vertical-align: middle;\n",
       "    }\n",
       "\n",
       "    .dataframe tbody tr th {\n",
       "        vertical-align: top;\n",
       "    }\n",
       "\n",
       "    .dataframe thead th {\n",
       "        text-align: right;\n",
       "    }\n",
       "</style>\n",
       "<table border=\"1\" class=\"dataframe\">\n",
       "  <thead>\n",
       "    <tr style=\"text-align: right;\">\n",
       "      <th></th>\n",
       "      <th>ID</th>\n",
       "      <th>AREA</th>\n",
       "      <th>DISTRICT</th>\n",
       "      <th>MEMBERS</th>\n",
       "      <th>LOCKED</th>\n",
       "      <th>NAME</th>\n",
       "      <th>ADJ_POPULA</th>\n",
       "      <th>ADJSUP_POP</th>\n",
       "      <th>ADJSUP_NH_</th>\n",
       "      <th>ADJSUP_BLA</th>\n",
       "      <th>...</th>\n",
       "      <th>F_ADJSUP_B</th>\n",
       "      <th>F_ADJSUP_A</th>\n",
       "      <th>F_ADJSUP_1</th>\n",
       "      <th>F_ADJSUP_H</th>\n",
       "      <th>F_ADJSUP_2</th>\n",
       "      <th>DEVIATION</th>\n",
       "      <th>F_ADJSUP_3</th>\n",
       "      <th>DISTRICT_N</th>\n",
       "      <th>DISTRICT_L</th>\n",
       "      <th>geometry</th>\n",
       "    </tr>\n",
       "  </thead>\n",
       "  <tbody>\n",
       "    <tr>\n",
       "      <th>0</th>\n",
       "      <td>1</td>\n",
       "      <td>5937.892578</td>\n",
       "      <td>29</td>\n",
       "      <td>1.0</td>\n",
       "      <td>None</td>\n",
       "      <td>029</td>\n",
       "      <td>10911</td>\n",
       "      <td>10911</td>\n",
       "      <td>9553</td>\n",
       "      <td>24</td>\n",
       "      <td>...</td>\n",
       "      <td>0.002200</td>\n",
       "      <td>0.040510</td>\n",
       "      <td>0.004033</td>\n",
       "      <td>0.026212</td>\n",
       "      <td>0.778755</td>\n",
       "      <td>84.0</td>\n",
       "      <td>0.033541</td>\n",
       "      <td>29</td>\n",
       "      <td>29|0.78%</td>\n",
       "      <td>POLYGON ((824891.649 5346874.136, 824854.762 5...</td>\n",
       "    </tr>\n",
       "    <tr>\n",
       "      <th>1</th>\n",
       "      <td>2</td>\n",
       "      <td>3493.946289</td>\n",
       "      <td>31</td>\n",
       "      <td>1.0</td>\n",
       "      <td>None</td>\n",
       "      <td>031</td>\n",
       "      <td>10304</td>\n",
       "      <td>10304</td>\n",
       "      <td>2557</td>\n",
       "      <td>28</td>\n",
       "      <td>...</td>\n",
       "      <td>0.002717</td>\n",
       "      <td>0.671099</td>\n",
       "      <td>0.004464</td>\n",
       "      <td>0.021351</td>\n",
       "      <td>0.690120</td>\n",
       "      <td>-523.0</td>\n",
       "      <td>0.618619</td>\n",
       "      <td>31</td>\n",
       "      <td>31|-4.83%</td>\n",
       "      <td>POLYGON ((827387.961 5341586.489, 827462.570 5...</td>\n",
       "    </tr>\n",
       "    <tr>\n",
       "      <th>2</th>\n",
       "      <td>3</td>\n",
       "      <td>5306.041016</td>\n",
       "      <td>32</td>\n",
       "      <td>1.0</td>\n",
       "      <td>None</td>\n",
       "      <td>032</td>\n",
       "      <td>10342</td>\n",
       "      <td>10342</td>\n",
       "      <td>2971</td>\n",
       "      <td>7</td>\n",
       "      <td>...</td>\n",
       "      <td>0.000677</td>\n",
       "      <td>0.669213</td>\n",
       "      <td>0.001064</td>\n",
       "      <td>0.026107</td>\n",
       "      <td>0.662251</td>\n",
       "      <td>-485.0</td>\n",
       "      <td>0.626807</td>\n",
       "      <td>32</td>\n",
       "      <td>32|-4.48%</td>\n",
       "      <td>POLYGON ((732130.229 5359900.877, 732135.549 5...</td>\n",
       "    </tr>\n",
       "    <tr>\n",
       "      <th>3</th>\n",
       "      <td>4</td>\n",
       "      <td>21.599699</td>\n",
       "      <td>27</td>\n",
       "      <td>1.0</td>\n",
       "      <td>None</td>\n",
       "      <td>027</td>\n",
       "      <td>10731</td>\n",
       "      <td>10731</td>\n",
       "      <td>8041</td>\n",
       "      <td>43</td>\n",
       "      <td>...</td>\n",
       "      <td>0.004007</td>\n",
       "      <td>0.131209</td>\n",
       "      <td>0.007082</td>\n",
       "      <td>0.037368</td>\n",
       "      <td>0.756127</td>\n",
       "      <td>-96.0</td>\n",
       "      <td>0.111412</td>\n",
       "      <td>27</td>\n",
       "      <td>27|-0.89%</td>\n",
       "      <td>POLYGON ((597329.886 5376016.556, 597317.181 5...</td>\n",
       "    </tr>\n",
       "    <tr>\n",
       "      <th>4</th>\n",
       "      <td>5</td>\n",
       "      <td>9375.785156</td>\n",
       "      <td>28</td>\n",
       "      <td>1.0</td>\n",
       "      <td>None</td>\n",
       "      <td>028</td>\n",
       "      <td>10859</td>\n",
       "      <td>10859</td>\n",
       "      <td>9665</td>\n",
       "      <td>14</td>\n",
       "      <td>...</td>\n",
       "      <td>0.001289</td>\n",
       "      <td>0.039783</td>\n",
       "      <td>0.002855</td>\n",
       "      <td>0.019983</td>\n",
       "      <td>0.768303</td>\n",
       "      <td>32.0</td>\n",
       "      <td>0.031164</td>\n",
       "      <td>28</td>\n",
       "      <td>28|0.3%</td>\n",
       "      <td>POLYGON ((518793.463 5427332.619, 518794.488 5...</td>\n",
       "    </tr>\n",
       "  </tbody>\n",
       "</table>\n",
       "<p>5 rows × 28 columns</p>\n",
       "</div>"
      ],
      "text/plain": [
       "   ID         AREA DISTRICT  MEMBERS LOCKED NAME  ADJ_POPULA  ADJSUP_POP  \\\n",
       "0   1  5937.892578       29      1.0   None  029       10911       10911   \n",
       "1   2  3493.946289       31      1.0   None  031       10304       10304   \n",
       "2   3  5306.041016       32      1.0   None  032       10342       10342   \n",
       "3   4    21.599699       27      1.0   None  027       10731       10731   \n",
       "4   5  9375.785156       28      1.0   None  028       10859       10859   \n",
       "\n",
       "   ADJSUP_NH_  ADJSUP_BLA  ...  F_ADJSUP_B  F_ADJSUP_A  F_ADJSUP_1  \\\n",
       "0        9553          24  ...    0.002200    0.040510    0.004033   \n",
       "1        2557          28  ...    0.002717    0.671099    0.004464   \n",
       "2        2971           7  ...    0.000677    0.669213    0.001064   \n",
       "3        8041          43  ...    0.004007    0.131209    0.007082   \n",
       "4        9665          14  ...    0.001289    0.039783    0.002855   \n",
       "\n",
       "   F_ADJSUP_H  F_ADJSUP_2  DEVIATION  F_ADJSUP_3  DISTRICT_N  DISTRICT_L  \\\n",
       "0    0.026212    0.778755       84.0    0.033541          29    29|0.78%   \n",
       "1    0.021351    0.690120     -523.0    0.618619          31   31|-4.83%   \n",
       "2    0.026107    0.662251     -485.0    0.626807          32   32|-4.48%   \n",
       "3    0.037368    0.756127      -96.0    0.111412          27   27|-0.89%   \n",
       "4    0.019983    0.768303       32.0    0.031164          28     28|0.3%   \n",
       "\n",
       "                                            geometry  \n",
       "0  POLYGON ((824891.649 5346874.136, 824854.762 5...  \n",
       "1  POLYGON ((827387.961 5341586.489, 827462.570 5...  \n",
       "2  POLYGON ((732130.229 5359900.877, 732135.549 5...  \n",
       "3  POLYGON ((597329.886 5376016.556, 597317.181 5...  \n",
       "4  POLYGON ((518793.463 5427332.619, 518794.488 5...  \n",
       "\n",
       "[5 rows x 28 columns]"
      ]
     },
     "execution_count": 41,
     "metadata": {},
     "output_type": "execute_result"
    }
   ],
   "source": [
    "hdist.head()"
   ]
  },
  {
   "cell_type": "code",
   "execution_count": 42,
   "id": "2b8fbf45-f392-4996-9dc6-e9ee67d0e715",
   "metadata": {
    "tags": []
   },
   "outputs": [
    {
     "name": "stderr",
     "output_type": "stream",
     "text": [
      "100%|████████████████████████████████████████████████████████████████████████| 2/2 [00:00<00:00, 45.50it/s]\n",
      "100%|████████████████████████████████████████████████████████████████████████| 2/2 [00:00<00:00, 54.54it/s]\n",
      "100%|████████████████████████████████████████████████████████████████████████| 2/2 [00:00<00:00,  6.04it/s]\n"
     ]
    }
   ],
   "source": [
    "election_df = add_district(cong_df, \"CD\", election_df, \"ID\")"
   ]
  },
  {
   "cell_type": "code",
   "execution_count": 43,
   "id": "a9fe98af-f37e-4200-835e-f96695f68e41",
   "metadata": {
    "tags": []
   },
   "outputs": [
    {
     "name": "stderr",
     "output_type": "stream",
     "text": [
      "100%|█████████████████████████████████████████████████████████████████████| 50/50 [00:00<00:00, 113.97it/s]\n",
      "100%|█████████████████████████████████████████████████████████████████████| 50/50 [00:00<00:00, 617.56it/s]\n",
      "100%|██████████████████████████████████████████████████████████████████████| 50/50 [00:01<00:00, 33.80it/s]\n"
     ]
    }
   ],
   "source": [
    "election_df = add_district(send, \"SEND\", election_df, \"ID\")"
   ]
  },
  {
   "cell_type": "code",
   "execution_count": 44,
   "id": "da4c6235-1028-43d0-adde-affe669c3f20",
   "metadata": {
    "tags": []
   },
   "outputs": [
    {
     "name": "stderr",
     "output_type": "stream",
     "text": [
      "100%|███████████████████████████████████████████████████████████████████| 100/100 [00:00<00:00, 164.95it/s]\n",
      "100%|██████████████████████████████████████████████████████████████████| 100/100 [00:00<00:00, 1276.39it/s]\n",
      "100%|████████████████████████████████████████████████████████████████████| 100/100 [00:01<00:00, 58.33it/s]\n"
     ]
    }
   ],
   "source": [
    "election_df = add_district(hdist, \"HDIST\", election_df, \"ID\")"
   ]
  },
  {
   "cell_type": "code",
   "execution_count": 45,
   "id": "aaee6a30-6a18-473e-bd02-7881c1e94e68",
   "metadata": {},
   "outputs": [
    {
     "data": {
      "text/plain": [
       "Index(['2MOREVAP', 'AMINVAP', 'ASIANVAP', 'ATG16D', 'ATG16R', 'ATG20D',\n",
       "       'ATG20R', 'AUD16D', 'AUD16R', 'AUD20D', 'AUD20O', 'AUD20R', 'BVAP',\n",
       "       'COUNTY', 'COUNTYFP10', 'CSC18D', 'CSC18O', 'CSC18R', 'GOV16D',\n",
       "       'GOV16O', 'GOV16R', 'GOV20D', 'GOV20O', 'GOV20R', 'HAL16D', 'HAL16O',\n",
       "       'HAL16R', 'HAL18D', 'HAL18O', 'HAL18R', 'HAL20D', 'HAL20R', 'HISP',\n",
       "       'HVAP', 'H_2MORE', 'H_AMIN', 'H_ASIAN', 'H_BLACK', 'H_NHPI', 'H_OTHER',\n",
       "       'H_WHITE', 'NAME', 'NHPIVAP', 'NH_2MORE', 'NH_AMIN', 'NH_ASIAN',\n",
       "       'NH_BLACK', 'NH_NHPI', 'NH_OTHER', 'NH_WHITE', 'OTHERVAP', 'PRE16D',\n",
       "       'PRE16O', 'PRE16R', 'PRE20D', 'PRE20O', 'PRE20R', 'SOS16D', 'SOS16O',\n",
       "       'SOS16R', 'SOS20D', 'SOS20R', 'SOSPRECINC', 'SPI16D', 'SPI16R',\n",
       "       'SPI20D', 'SPI20O', 'SPI20R', 'STATEFP10', 'TOTPOP', 'USS18D', 'USS18O',\n",
       "       'USS18R', 'USS20D', 'USS20R', 'VAP', 'WVAP', 'geometry', 'CD', 'SEND',\n",
       "       'HDIST'],\n",
       "      dtype='object')"
      ]
     },
     "execution_count": 45,
     "metadata": {},
     "output_type": "execute_result"
    }
   ],
   "source": [
    "election_df.columns"
   ]
  },
  {
   "cell_type": "markdown",
   "id": "0bba365b-7d46-45ea-9b8b-400fc162a82f",
   "metadata": {},
   "source": [
    "### Put the base precinct year after the precinct information column"
   ]
  },
  {
   "cell_type": "code",
   "execution_count": 46,
   "id": "7086205b-49f4-44a7-be19-9eeac924e07b",
   "metadata": {},
   "outputs": [],
   "source": [
    "base_columns = {}\n",
    "if 'COUNTY' + year not in election_df.columns:\n",
    "    base_columns = {\n",
    "        'COUNTY':'COUNTY'+year,\n",
    "        'SOSPRECINC':'SOSPRECINC'+year,\n",
    "        'COUNTYFP10':'COUNTYFP10'+year,\n",
    "        'NAME':'NAME'+year,\n",
    "        'STATEFP10':'STATEFP10'+year\n",
    "    }\n",
    "election_df.rename(columns=base_columns, inplace = True)"
   ]
  },
  {
   "cell_type": "code",
   "execution_count": 47,
   "id": "3ea62760-cc32-4fcc-8475-c3ba956cb901",
   "metadata": {},
   "outputs": [],
   "source": [
    "# reorder the columns\n",
    "fixed_columns = [\n",
    "    'COUNTY'+year,\n",
    "    'COUNTYFP10'+year,\n",
    "    'NAME'+year,\n",
    "    'SOSPRECINC'+year,\n",
    "    'STATEFP10'+year,\n",
    "    'CD',\n",
    "    'SEND',\n",
    "    'HDIST',\n",
    "    'TOTPOP',\n",
    "    'NH_2MORE',\n",
    "    'NH_AMIN',\n",
    "    'NH_ASIAN',\n",
    "    'NH_BLACK',\n",
    "    'NH_NHPI',\n",
    "    'NH_OTHER',\n",
    "    'NH_WHITE',\n",
    "    'HISP',\n",
    "    'H_AMIN',\n",
    "    'H_ASIAN',\n",
    "    'H_BLACK',\n",
    "    'H_NHPI',\n",
    "    'H_OTHER',\n",
    "    'H_WHITE',\n",
    "    'H_2MORE',\n",
    "    'VAP',\n",
    "    'HVAP',\n",
    "    'WVAP',\n",
    "    'BVAP',\n",
    "    'AMINVAP',\n",
    "    'ASIANVAP',\n",
    "    'NHPIVAP',\n",
    "    'OTHERVAP',\n",
    "    '2MOREVAP']\n",
    "\n",
    "election_columns = [col for col in election_df.columns if col not in fixed_columns]\n",
    "final_col = fixed_columns + election_columns\n",
    "election_df = election_df[final_col]"
   ]
  },
  {
   "cell_type": "code",
   "execution_count": 48,
   "id": "fd2b8af8-fac1-44f2-84eb-b2870384daaf",
   "metadata": {},
   "outputs": [
    {
     "data": {
      "text/plain": [
       "['COUNTY20',\n",
       " 'COUNTYFP1020',\n",
       " 'NAME20',\n",
       " 'SOSPRECINC20',\n",
       " 'STATEFP1020',\n",
       " 'CD',\n",
       " 'SEND',\n",
       " 'HDIST',\n",
       " 'TOTPOP',\n",
       " 'NH_2MORE',\n",
       " 'NH_AMIN',\n",
       " 'NH_ASIAN',\n",
       " 'NH_BLACK',\n",
       " 'NH_NHPI',\n",
       " 'NH_OTHER',\n",
       " 'NH_WHITE',\n",
       " 'HISP',\n",
       " 'H_AMIN',\n",
       " 'H_ASIAN',\n",
       " 'H_BLACK',\n",
       " 'H_NHPI',\n",
       " 'H_OTHER',\n",
       " 'H_WHITE',\n",
       " 'H_2MORE',\n",
       " 'VAP',\n",
       " 'HVAP',\n",
       " 'WVAP',\n",
       " 'BVAP',\n",
       " 'AMINVAP',\n",
       " 'ASIANVAP',\n",
       " 'NHPIVAP',\n",
       " 'OTHERVAP',\n",
       " '2MOREVAP',\n",
       " 'ATG16D',\n",
       " 'ATG16R',\n",
       " 'ATG20D',\n",
       " 'ATG20R',\n",
       " 'AUD16D',\n",
       " 'AUD16R',\n",
       " 'AUD20D',\n",
       " 'AUD20O',\n",
       " 'AUD20R',\n",
       " 'CSC18D',\n",
       " 'CSC18O',\n",
       " 'CSC18R',\n",
       " 'GOV16D',\n",
       " 'GOV16O',\n",
       " 'GOV16R',\n",
       " 'GOV20D',\n",
       " 'GOV20O',\n",
       " 'GOV20R',\n",
       " 'HAL16D',\n",
       " 'HAL16O',\n",
       " 'HAL16R',\n",
       " 'HAL18D',\n",
       " 'HAL18O',\n",
       " 'HAL18R',\n",
       " 'HAL20D',\n",
       " 'HAL20R',\n",
       " 'PRE16D',\n",
       " 'PRE16O',\n",
       " 'PRE16R',\n",
       " 'PRE20D',\n",
       " 'PRE20O',\n",
       " 'PRE20R',\n",
       " 'SOS16D',\n",
       " 'SOS16O',\n",
       " 'SOS16R',\n",
       " 'SOS20D',\n",
       " 'SOS20R',\n",
       " 'SPI16D',\n",
       " 'SPI16R',\n",
       " 'SPI20D',\n",
       " 'SPI20O',\n",
       " 'SPI20R',\n",
       " 'USS18D',\n",
       " 'USS18O',\n",
       " 'USS18R',\n",
       " 'USS20D',\n",
       " 'USS20R',\n",
       " 'geometry']"
      ]
     },
     "execution_count": 48,
     "metadata": {},
     "output_type": "execute_result"
    }
   ],
   "source": [
    "list(election_df.columns)"
   ]
  },
  {
   "cell_type": "code",
   "execution_count": 49,
   "id": "1b198042-dbd4-408e-bfd4-4494f2b49245",
   "metadata": {
    "tags": []
   },
   "outputs": [],
   "source": [
    "# store the result in directory \"mt\"\n",
    "os.makedirs(\"./{}\".format(state_ab), exist_ok=True)\n",
    "election_df.to_file(\"./{}/{}.shp\".format(state_ab, state_ab))\n",
    "election_df.to_file('./{}/{}.geojson'.format(state_ab, state_ab), driver='GeoJSON')\n",
    "\n",
    "# Only do once to build json and read from file when generating ensembles\n",
    "graph = Graph.from_file(\"./{}/{}.shp\".format(state_ab, state_ab), ignore_errors=True)\n",
    "graph.to_json(\"./{}/{}.json\".format(state_ab, state_ab))"
   ]
  },
  {
   "cell_type": "code",
   "execution_count": 50,
   "id": "a8ba4789-8282-428a-90d4-e59ee50f4064",
   "metadata": {},
   "outputs": [
    {
     "data": {
      "text/plain": [
       "<Axes: >"
      ]
     },
     "execution_count": 50,
     "metadata": {},
     "output_type": "execute_result"
    },
    {
     "data": {
      "image/png": "[encoded data removed]",
      "text/plain": [
       "<Figure size 640x480 with 1 Axes>"
      ]
     },
     "metadata": {},
     "output_type": "display_data"
    }
   ],
   "source": [
    "shapefile_path = \"./{}/{}.shp\".format(state_ab, state_ab)\n",
    "shape=gpd.read_file(shapefile_path)\n",
    "shape.plot()"
   ]
  }
 ],
 "metadata": {
  "kernelspec": {
   "display_name": "gerry",
   "language": "python",
   "name": "gerry"
  },
  "language_info": {
   "codemirror_mode": {
    "name": "ipython",
    "version": 3
   },
   "file_extension": ".py",
   "mimetype": "text/x-python",
   "name": "python",
   "nbconvert_exporter": "python",
   "pygments_lexer": "ipython3",
   "version": "3.11.4"
  }
 },
 "nbformat": 4,
 "nbformat_minor": 5
}
